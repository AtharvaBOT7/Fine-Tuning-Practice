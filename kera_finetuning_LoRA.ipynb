{
 "cells": [
  {
   "cell_type": "code",
   "execution_count": 2,
   "id": "80a15b33",
   "metadata": {},
   "outputs": [
    {
     "data": {
      "text/plain": [
       "True"
      ]
     },
     "execution_count": 2,
     "metadata": {},
     "output_type": "execute_result"
    }
   ],
   "source": [
    "load_dotenv()"
   ]
  },
  {
   "cell_type": "code",
   "execution_count": 3,
   "id": "2adb2c6e",
   "metadata": {},
   "outputs": [],
   "source": [
    "GOOGLE_API_KEY = os.getenv(\"GOOGLE_API_KEY\")\n",
    "os.environ[\"GOOGLE_API_KEY\"] = GOOGLE_API_KEY\n",
    "\n",
    "KAGGLE_KEY = os.getenv(\"KAGGLE_KEY\")\n",
    "KAGGLE_USERNAME = os.getenv(\"KAGGLE_USERNAME\")\n",
    "\n",
    "os.environ[\"KAGGLE_KEY\"] = KAGGLE_KEY\n",
    "os.environ[\"KAGGLE_USERNAME\"] = KAGGLE_USERNAME"
   ]
  },
  {
   "cell_type": "code",
   "execution_count": 4,
   "id": "3f41405f",
   "metadata": {},
   "outputs": [],
   "source": [
    "# !pip install -q -U keras-nlp\n",
    "# !pip install -q -U keras>=3"
   ]
  },
  {
   "cell_type": "code",
   "execution_count": 5,
   "id": "1ce3c3e9",
   "metadata": {},
   "outputs": [],
   "source": [
    "os.environ[\"KERAS_BACKEND\"] = \"jax\"\n",
    "os.environ[\"XLA_PYTHON_CLIENT_MEM_FRACTION\"] = \"1.00\""
   ]
  },
  {
   "cell_type": "code",
   "execution_count": 6,
   "id": "9a519cea",
   "metadata": {},
   "outputs": [
    {
     "name": "stderr",
     "output_type": "stream",
     "text": [
      "/Users/atharvabot7/Downloads/MLOPS-Tutorials/Fine-Tuning-Practice/gemmakeras/lib/python3.10/site-packages/tqdm/auto.py:21: TqdmWarning: IProgress not found. Please update jupyter and ipywidgets. See https://ipywidgets.readthedocs.io/en/stable/user_install.html\n",
      "  from .autonotebook import tqdm as notebook_tqdm\n"
     ]
    }
   ],
   "source": [
    "import keras\n",
    "import keras_nlp"
   ]
  },
  {
   "cell_type": "code",
   "execution_count": 7,
   "id": "7e2bd659",
   "metadata": {},
   "outputs": [],
   "source": [
    "import json\n",
    "data = []\n",
    "with open(r\"databricks-dolly-15k.jsonl\") as file:\n",
    "    for line in file:\n",
    "        features = json.loads(line)\n",
    "\n",
    "        if features[\"context\"]:\n",
    "            continue\n",
    "        \n",
    "        template = \"Instruction: \\n {instruction} \\n\\n Response: {response}\"\n",
    "        data.append(template.format(**features))"
   ]
  },
  {
   "cell_type": "code",
   "execution_count": 8,
   "id": "9c73479f",
   "metadata": {},
   "outputs": [],
   "source": [
    "data = data[:50]"
   ]
  },
  {
   "cell_type": "code",
   "execution_count": 9,
   "id": "974d1780",
   "metadata": {},
   "outputs": [
    {
     "data": {
      "text/plain": [
       "['Instruction: \\n Which is a species of fish? Tope or Rope \\n\\n Response: Tope',\n",
       " 'Instruction: \\n Why can camels survive for long without water? \\n\\n Response: Camels use the fat in their humps to keep them filled with energy and hydration for long periods of time.',\n",
       " \"Instruction: \\n Alice's parents have three daughters: Amy, Jessy, and what’s the name of the third daughter? \\n\\n Response: The name of the third daughter is Alice\",\n",
       " 'Instruction: \\n Who gave the UN the land in NY to build their HQ \\n\\n Response: John D Rockerfeller',\n",
       " 'Instruction: \\n Why mobile is bad for human \\n\\n Response: We are always engaged one phone which is not good.',\n",
       " 'Instruction: \\n What is a polygon? \\n\\n Response: A polygon is a form in Geometry.  It is a single dimensional plane made of connecting lines and any number of vertices.  It is a closed chain of connected line segments or edges.  The vertices of the polygon are formed where two edges meet.  Examples of polygons are hexagons, pentagons, and octagons.  Any plane that does not contain edges or vertices is not a polygon.  An example of a non-polygon is a circle.',\n",
       " 'Instruction: \\n How do I start running? \\n\\n Response: Make sure you get comfortable running shoes and attire. Start with achievable goal in mind like a 5K race. If you never ran before, start gradually from a walk, to brisk walk, light jog aiming for 15-30mins initially. Slowly increase your running time and distance as your fitness level improves. One of the most important things is cool down and gentle stretching. Always listen to your body, and take rest days when needed to prevent injury.',\n",
       " 'Instruction: \\n Which episodes of season four of Game of Thrones did Michelle MacLaren direct? \\n\\n Response: She directed \"Oathkeeper\" and \"First of His Name\" the fourth and fifth episodes of season four, respectively.',\n",
       " 'Instruction: \\n What are some unique curtain tie backs that you can make yourself? \\n\\n Response: There are many items you can use to make a curtain tie back. Some ideas for this include a chain, a circle and pin, jute rope, wooden beaded rope, a necklack or bracelet, a door knob, a length of a leather belt, macrame rope, or a string of artificial flowers.',\n",
       " 'Instruction: \\n Identify which instrument is string or percussion: Cantaro, Gudok \\n\\n Response: Gudok is string, Cantaro is percussion.',\n",
       " 'Instruction: \\n Give me the top 5 golf equipment company names. \\n\\n Response: Titleist, Taylormade, Callaway, Ping, Cobra',\n",
       " 'Instruction: \\n What individual has won the most Olympic gold medals in the history of the games? \\n\\n Response: Michael Phelps has won the most gold medals of all time with 23 golds.',\n",
       " 'Instruction: \\n Which Dutch artist painted “Girl with a Pearl Earring”? \\n\\n Response: Vermeer',\n",
       " 'Instruction: \\n What happens when the sun goes down? \\n\\n Response: When the sun sets, the evening starts.',\n",
       " 'Instruction: \\n What is a verb? \\n\\n Response: A verb is an action word that describes an activity.  Examples of verbs are the following: swimming, hiking, biking, roller skating, or skydiving.  All of these single and combination word examples are tied to an activity that any living thing can do.  For example, a dog can bike ride with a human when the human is pedaling the bike.  Verb use is not limited to humans or people only but applies to all living things.',\n",
       " 'Instruction: \\n Which of the following is useful for transportation: a glass of wine, a lamp, a train, an iced cube tray, a plane, a bicycle, an apple and a scooter. \\n\\n Response: The useful objects for transportation in the list are train, plane, bicyle and scooter.',\n",
       " 'Instruction: \\n Identify which instrument is string or woodwind: Panduri, Zurna \\n\\n Response: Zurna is woodwind, Panduri is string.',\n",
       " 'Instruction: \\n Who became king of Holland in 1806? \\n\\n Response: William I of the Netherlands became king of Holland in 1806.',\n",
       " 'Instruction: \\n What is best Playstation or Xbox \\n\\n Response: Playstation and Xbox are two competing game consoles, where which is \"best\" will depend on the preferences of the gamer.  From a graphics and performance perspective they are comparable, with Sony\\'s Playstation technically leading, though most gamers would be unlikely to notice a significant difference.  From a game library perspective, both consoles have their respective first-party titles that appeal to different demographics.  For example, Microsoft has seen great popularity due to popular title Halo being exclusively available on the console.  On the other hand, Playstation has popular exclusive titles such as God of War and Gran Turismo.  Ultimately the decision of which console is best will likely come down to which games titles the purchaser prefers.',\n",
       " 'Instruction: \\n Who played Billy the Kid in The Left Handed Gun \\n\\n Response: Paul Newman',\n",
       " 'Instruction: \\n why did Syd Barrett left the Pink Floyd? \\n\\n Response: Syd Barrett was one of the main members of the Pink Floyd. He has used drugs a lot and after a while he was not able to perform with the team. Even though the band gave him multiple chances, he could not keep up with the band. In the end, they had to ask him to leave the band. The main reason that he has left the team is his health problems and addiction to drugs.',\n",
       " 'Instruction: \\n what is REST API \\n\\n Response: REST API is an architectural style for building network APIs. In practice, most REST APIs are using JSON over HTTP. REST APIs have several properties that make them very popular.\\n\\nHTTP is the foundational and the most popular network protocol across the internet. By using HTTP, REST APIs can fully utilize the internet infrastructure, which greatly reduce the complexity and operational costs. For example, using HTTPS for transport security, and using URL for request routing.\\n\\nJSON is a simple, stable, and intuitive data format , which is not expected to change ever. This offers great ease of use and stability to REST APIs. For high performance applications, binary formats can be used instead, such as protobuf or thrift.\\n\\nREST APIs are often designed as CRUD APIs, where API operations are commonly expressed as Create, Retrieve, Update, and Delete operations on resources. CRUD operations are naturally mapped to HTTP methods (POST, GET, PUT/PATCH, and DELETE), and API resources can be naturally identified using URLs.',\n",
       " 'Instruction: \\n What is underwriting? \\n\\n Response: Underwriting (UW) services are provided by some large financial institutions, such as banks, insurance companies and investment houses, whereby they guarantee payment in case of damage or financial loss and accept the financial risk for liability arising from such guarantee. An underwriting arrangement may be created in a number of situations including insurance, issues of security in a public offering, and bank lending, among others. The person or institution that agrees to sell a minimum number of securities of the company for commission is called the underwriter.\\n\\nThe term \"underwriting\" derives from the Lloyd\\'s of London insurance market. Financial backers (or risk takers), who would accept some of the risk on a given venture (historically a sea voyage with associated risks of shipwreck) in exchange for a premium, would literally write their names under the risk information that was written on a Lloyd\\'s slip created for this purpose.',\n",
       " 'Instruction: \\n Give me a list of some characteristics of a good coffee shop? \\n\\n Response: Some characteristics of good coffee shops include:\\n- Very good coffee, either freshly roasted locally or acquired from a quality roaster\\n- High end coffee grinders, brewing machines, and a high quality espresso machine and well-trained baristas\\n- Different coffee roast options (i.e. medium roast, dark roast) and brewing methods (i.e. drip coffee and pour-over) available\\n- A variety of cafe fare, such as pastries and croissants, available for purchase to accompany coffee\\n- Ample seating, with power outlets available by most seats.',\n",
       " 'Instruction: \\n Who saved Andromeda from the sea monster \\n\\n Response: Perseus',\n",
       " 'Instruction: \\n How can I contribute to Spark? \\n\\n Response: Yes, Spark is an open source project and anyone can contribute to it.',\n",
       " 'Instruction: \\n Who are \\'\\'The Lumières\" ? \\n\\n Response: The Lumières (literally in English: The Lights) was a cultural, philosophical, literary and intellectual movement beginning in the second half of the 17th century, originating in western Europe and spreading throughout the rest of Europe. It included philosophers such as Baruch Spinoza, David Hume, John Locke, Edward Gibbon, Voltaire, Jean-Jacques Rousseau, Denis Diderot, Pierre Bayle and Isaac Newton. This movement is influenced by the scientific revolution in southern Europe arising directly from the Italian renaissance with people like Galileo Galilei. Over time it came to mean the Siècle des Lumières, in English the Age of Enlightenment.[Note 1]\\n\\nMembers of the movement saw themselves as a progressive élite, and battled against religious and political persecution, fighting against what they saw as the irrationality, arbitrariness, obscurantism and superstition of the previous centuries. They redefined the study of knowledge to fit the ethics and aesthetics of their time. Their works had great influence at the end of the 18th century, in the American Declaration of Independence and the French Revolution.\\n\\nThis intellectual and cultural renewal by the Lumières movement was, in its strictest sense, limited to Europe. These ideas were well understood in Europe, but beyond France the idea of \"enlightenment\" had generally meant a light from outside, whereas in France it meant a light coming from within oneself.\\n\\nIn the most general terms, in science and philosophy, the Enlightenment aimed for the triumph of reason over faith and belief; in politics and economics, the triumph of the bourgeois over nobility and clergy.',\n",
       " 'Instruction: \\n When was the wheel invented? \\n\\n Response: No one knows when the wheel was first made. Archaeological evidence seems to show that the wheel was first used to make pottery in Mesopotamia about 7,000 years ago, during the Neolithic period. Later, it was used to make chariots. Chariot wheels have been found in Sumer as early as 3000 BC. The wheel is one of the most important inventions in human history. It was very useful for making pottery and getting around on land. It is also a key part of machines.',\n",
       " 'Instruction: \\n write a scene between two actors discussing movie Inception \\n\\n Response: Actress 1: \"Oh my god, have you seen Inception?\"\\n\\nActor 2: \"Yes! That movie blew my mind. What did you think of it?\"\\n\\nActress 1: \"Honestly, I was so confused for most of it. But it was so interesting, I couldn\\'t look away. I had to know what was going on.\"\\n\\nActor 2: \"That\\'s exactly how I felt. It\\'s one of those movies that you have to pay attention to every detail, or you\\'ll get lost.\"\\n\\nActress 1: \"Absolutely. And the way they played with time and reality was so cool. I don\\'t think I\\'ve ever seen a movie like that before.\"\\n\\nActor 2: \"Yeah, the concept of entering someone\\'s dreams to implant an idea was mind-boggling. And the way they executed it was so well done.\"\\n\\nActress 1: \"It was. And the cast was amazing too. Leonardo DiCaprio was incredible as usual, and I loved seeing Ellen Page in a different type of role.\"\\n\\nActor 2: \"Definitely. And the action scenes were so intense. The zero-gravity hallway fight was insane.\"\\n\\nActress 1: \"Oh my god, yes. I was on the edge of my seat for that one. And the ending...I still can\\'t decide what it means.\"\\n\\nActor 2: \"I know, right? It\\'s one of those movies that leaves you with so many questions. But that\\'s part of what makes it so great.\"\\n\\nActress 1: \"Exactly. I love when movies challenge me to think and leave me wanting more. Inception definitely did that.\"\\n\\nActor 2: \"Agreed. It\\'s definitely one of my all-time favorites. I could watch it a hundred times and still discover something new.\"\\n\\nActress 1: \"Same here. It\\'s just one of those movies that sticks with you long after it\\'s over.\"',\n",
       " 'Instruction: \\n Did dinosaurs have lips? \\n\\n Response: Recent research suggests that the popular perception that dinosaurs had exposed teeth may be incorrect, and the current hypothesis is that the Tyrannosaurus rex did indeed have lips. A 2023 study by Dr Mark Witton of the University of Portsmouth said popular depictions of dinosaurs in movies like Jurassic Park are out of date. The study examined a large tooth that had spent over 500 days in the mouth of a Tyrannosaurus rex with no evidence of substantial wear, which is consistent with all findings of teeth found in the theropod family of dinosaurs. When contrasted with alligators and crocodiles, who have no lips and have more easily damaged teeth the theory says the evidence points to theropods, including Tyrannosaurus rex did indeed have lips. There would have been expected to be wear on the thin enamel on the teeth far more consistent with modern animals like crocodiles if dinosaurs had no lips.',\n",
       " 'Instruction: \\n Are lilies safe for cats? \\n\\n Response: No, lilies are toxic to cats if consumed and should not be kept in a household with cats',\n",
       " \"Instruction: \\n What is Sunshine Recession? \\n\\n Response: It is known as the deepest period in which sunspots are not virtually visible. Deepest period is related to sun cycle's process called solar minimum\",\n",
       " 'Instruction: \\n What is the currency in use in the Netherlands? \\n\\n Response: The currency in use in the Netherlands is the euro.',\n",
       " 'Instruction: \\n What is the best tv series in the world \\n\\n Response: Dexter- The Dexter is so exciting to watch that it should be the best TV series in the world',\n",
       " \"Instruction: \\n Think of some family rules to promote a healthy family relationship \\n\\n Response: Use Kind words\\nBe grateful\\nThink of others before yourself\\nWork hard\\nBe Honest\\nBe thankful\\nKeep your promises\\nChoose to be happy\\nAlways say 'I Love You'\\nBe kind\\nEncourage each other\",\n",
       " 'Instruction: \\n In the series A Song of Ice and Fire, who is the founder of House Karstark? \\n\\n Response: Karlon Stark',\n",
       " \"Instruction: \\n What is enriched air and why would divers dive with enriched air? \\n\\n Response: Enriched air, also known as nitrox, is one kind of air with more than 21% oxygen. 21% oxygen is the normal air we breathe on the earth. The primary benefit of using enriched air is to extend the diver's bottom time, and reduce the need to push to no decompression limit. This advantage is really beneficial in deeper diving. \\nFor example, at 80 feet of depth, normal air can last around 30 min, while enriched air of 32% oxygen can last for 45 min and 36% can last for 55 min. \\nWhile enriched air is really beneficial in extending bottom time, it is important that divers get trained to use it before diving with enriched air.\",\n",
       " 'Instruction: \\n What film won the 1943 Oscar as best film \\n\\n Response: Casablanca',\n",
       " 'Instruction: \\n which weighs more, cold or hot water? \\n\\n Response: Cold water weighs more than hot water',\n",
       " \"Instruction: \\n Write a short paragraph about why you should not have both a pet cat and a pet bird. \\n\\n Response: Having both a pet bird and a pet cat is not a good idea because cats will try to hunt birds, which are naturally the prey of cats. This hunting instinct is completely normal, and it isn't fair to the cat to try to train it not to attack birds, as it is simply in its nature to do so. However, letting a cat hunt your pet bird is similarly not humane, as it will be very stressful to the bird and could lead to the bird being injured. Larger birds are also not a good idea, as the bird could cause injury to the cat if the cat tries to attack it. Overall, it just isn't a good idea to have both cats and birds, since they tend not to coexist well, and pet owners should just pick one species to have.\",\n",
       " \"Instruction: \\n What is your favorite strip from the comic Calvin and Hobbes? \\n\\n Response: Calvin and Hobbes is an iconic strip that is regarded as one of the best comic strips in history. Individual preferences may vary and it's difficult to find the publishing rate of individual strips throughout its ten year syndication.\",\n",
       " 'Instruction: \\n What makes a formula one car so fast? \\n\\n Response: Formula One cars are one of the fastest racing cars in the world reaching speeds as high as 240 mph.\\n\\nThere are many aspects that make formula one cars fast, below are the top few\\n\\n1. Engine:  F1 cars have extremely powerful engines that can generate around 1000 bhp at up to 20,000 rpm\\n2. Power-to-Weight ratio: F1 cars are also extremely light at around 800 kgs giving them a power-to-weight ratio of 12000-1400 hp/ton. For comparison, the best Porsche cars have a power-to-weight ratio of only 300-400 hp/ton.\\n2. Aerodynamics: F1 cars are fitted with extremely sophisticated aerodynamics including a rear wing, front wing and body parts that help reduce aerodynamic drag for straight-line speeds while adding downforce to help around corners\\n3. Tires: F1 tires are extremely large and sticky. This help the cars stick to the road as the car goes through turns very fast.\\n4. Brakes: Lastly F1 brakes are very powerful and can slow down a car extremely quickly. This allows F1 cars to be at top speed for much longer before needing to slow down for taking a turn.',\n",
       " 'Instruction: \\n What is LAPR? \\n\\n Response: This stands for life assurance premium relief. Before 14 March 1984 there was tax relief on life insurance premiums paid by policyholders for policies which qualified for tax relief. Policies which started',\n",
       " 'Instruction: \\n Is beauty objective or subjective? \\n\\n Response: The opinions on this question vary from person to person. \\nStatistically, a pattern of preference is easily visible on what people would describe as beautiful. An evident example of this phenomenon is a beauty standard for women and men. Society seems to agree on what features, both physical and internal, can deem a person beautiful. The standard of beauty is also projected beyond humans, onto animal breeds, for example, in cat shows. \\nA link between beauty and how closely it resembles perfection appears to exist. For example, a rose with many petals and no tears or scratches is generally seen as more beautiful than one with fewer, visibly ruined petals. \\nHowever, the question of perfection also raises a problem as it is difficult and arguably impossible to define perfection. Beauty does not necessarily mean perfection. For example, large eyes are statistically considered to be more attractive however, in terms of their biological  purpose they possess no superiority to small eyes. Therefore, both beauty and perfection depend on the perspective or purpose with which you observe an object.\\n\\nFurthermore, the clear fluctuations through centuries and cultures on what is considered to be beautiful should also be taken into account. Fashion trends and art styles, for instance,  are constantly changing. Additionally, the diversity in opinions suggests there is nothing that is considered beautiful by everyone, so even if the majority deem a particular object or thing as beautiful, it’s beauty remains subjective because it remains based on an ever-changing preference rather than objective truth.',\n",
       " 'Instruction: \\n Identify which instrument is string or percussion: Kpanlogo, Shamisen \\n\\n Response: Shamisen is string, Kpanlogo is percussion.',\n",
       " 'Instruction: \\n Why do potato chip bags become stale after opening? \\n\\n Response: Potato chip bags are filled with nitrogen! Many consumers think the chip companies are out there to get your money by filling three quarters of your bag with air, but it’s actually nitrogen to keep your chips fresh. This is why once you open the bag, you should finish the chips as soon as possible. There, now you have a reason to finish the whole bag of chips in one go without feeling guilty.',\n",
       " 'Instruction: \\n Classify each of the following as a primary color or a secondary color \\n\\n Response: blue, yellow, green, red, purple, orange',\n",
       " 'Instruction: \\n What is the future for human? \\n\\n Response: This is a very wide open question. It could be two directions. One direction is that human would just disappear like the dinosaur.  One direction is that human would become a species like a god. For the first direction, it may be caused by many situations. e.g. Nuclear war from WW3, extreme climate change. For the other direction, reproduced energy is ready, all cancers can be cured, everything can be done with robot with AI, human life is unlimited.',\n",
       " 'Instruction: \\n Name some of the bravolebrities from Vanderpump Rules \\n\\n Response: James Kennedy, Katie Maloney, Raquel Leviss, Tom Sandoval, Ariana Madix, Tom Schwartz and Lala Kent',\n",
       " 'Instruction: \\n Name some famous rock bands from the 1960s \\n\\n Response: The 1960s had a number of famous rock bands including The Beatles, The Beach Boys, The Doors, The Rolling Stones, The Who, Led Zeppelin, The Grateful Dead, Pink Floyd, and many more.']"
      ]
     },
     "execution_count": 9,
     "metadata": {},
     "output_type": "execute_result"
    }
   ],
   "source": [
    "data"
   ]
  },
  {
   "cell_type": "code",
   "execution_count": 10,
   "id": "e84d02e3",
   "metadata": {},
   "outputs": [
    {
     "name": "stderr",
     "output_type": "stream",
     "text": [
      "normalizer.cc(51) LOG(INFO) precompiled_charsmap is empty. use identity normalization.\n"
     ]
    },
    {
     "data": {
      "text/html": [
       "<pre style=\"white-space:pre;overflow-x:auto;line-height:normal;font-family:Menlo,'DejaVu Sans Mono',consolas,'Courier New',monospace\"><span style=\"font-weight: bold\">Preprocessor: \"gemma_causal_lm_preprocessor\"</span>\n",
       "</pre>\n"
      ],
      "text/plain": [
       "\u001b[1mPreprocessor: \"gemma_causal_lm_preprocessor\"\u001b[0m\n"
      ]
     },
     "metadata": {},
     "output_type": "display_data"
    },
    {
     "data": {
      "text/html": [
       "<pre style=\"white-space:pre;overflow-x:auto;line-height:normal;font-family:Menlo,'DejaVu Sans Mono',consolas,'Courier New',monospace\">┏━━━━━━━━━━━━━━━━━━━━━━━━━━━━━━━━━━━━━━━━━━━━━━━━━━━━━━━━━━━━━━━┳━━━━━━━━━━━━━━━━━━━━━━━━━━━━━━━━━━━━━━━━━━┓\n",
       "┃<span style=\"font-weight: bold\"> Layer (type)                                                  </span>┃<span style=\"font-weight: bold\">                                   Config </span>┃\n",
       "┡━━━━━━━━━━━━━━━━━━━━━━━━━━━━━━━━━━━━━━━━━━━━━━━━━━━━━━━━━━━━━━━╇━━━━━━━━━━━━━━━━━━━━━━━━━━━━━━━━━━━━━━━━━━┩\n",
       "│ gemma_tokenizer (<span style=\"color: #0087ff; text-decoration-color: #0087ff\">GemmaTokenizer</span>)                              │                      Vocab size: <span style=\"color: #00af00; text-decoration-color: #00af00\">256,000</span> │\n",
       "└───────────────────────────────────────────────────────────────┴──────────────────────────────────────────┘\n",
       "</pre>\n"
      ],
      "text/plain": [
       "┏━━━━━━━━━━━━━━━━━━━━━━━━━━━━━━━━━━━━━━━━━━━━━━━━━━━━━━━━━━━━━━━┳━━━━━━━━━━━━━━━━━━━━━━━━━━━━━━━━━━━━━━━━━━┓\n",
       "┃\u001b[1m \u001b[0m\u001b[1mLayer (type)                                                 \u001b[0m\u001b[1m \u001b[0m┃\u001b[1m \u001b[0m\u001b[1m                                  Config\u001b[0m\u001b[1m \u001b[0m┃\n",
       "┡━━━━━━━━━━━━━━━━━━━━━━━━━━━━━━━━━━━━━━━━━━━━━━━━━━━━━━━━━━━━━━━╇━━━━━━━━━━━━━━━━━━━━━━━━━━━━━━━━━━━━━━━━━━┩\n",
       "│ gemma_tokenizer (\u001b[38;5;33mGemmaTokenizer\u001b[0m)                              │                      Vocab size: \u001b[38;5;34m256,000\u001b[0m │\n",
       "└───────────────────────────────────────────────────────────────┴──────────────────────────────────────────┘\n"
      ]
     },
     "metadata": {},
     "output_type": "display_data"
    },
    {
     "data": {
      "text/html": [
       "<pre style=\"white-space:pre;overflow-x:auto;line-height:normal;font-family:Menlo,'DejaVu Sans Mono',consolas,'Courier New',monospace\"><span style=\"font-weight: bold\">Model: \"gemma_causal_lm\"</span>\n",
       "</pre>\n"
      ],
      "text/plain": [
       "\u001b[1mModel: \"gemma_causal_lm\"\u001b[0m\n"
      ]
     },
     "metadata": {},
     "output_type": "display_data"
    },
    {
     "data": {
      "text/html": [
       "<pre style=\"white-space:pre;overflow-x:auto;line-height:normal;font-family:Menlo,'DejaVu Sans Mono',consolas,'Courier New',monospace\">┏━━━━━━━━━━━━━━━━━━━━━━━━━━━━━━━┳━━━━━━━━━━━━━━━━━━━━━━━━━━━┳━━━━━━━━━━━━━━━━━┳━━━━━━━━━━━━━━━━━━━━━━━━━━━━┓\n",
       "┃<span style=\"font-weight: bold\"> Layer (type)                  </span>┃<span style=\"font-weight: bold\"> Output Shape              </span>┃<span style=\"font-weight: bold\">         Param # </span>┃<span style=\"font-weight: bold\"> Connected to               </span>┃\n",
       "┡━━━━━━━━━━━━━━━━━━━━━━━━━━━━━━━╇━━━━━━━━━━━━━━━━━━━━━━━━━━━╇━━━━━━━━━━━━━━━━━╇━━━━━━━━━━━━━━━━━━━━━━━━━━━━┩\n",
       "│ padding_mask (<span style=\"color: #0087ff; text-decoration-color: #0087ff\">InputLayer</span>)     │ (<span style=\"color: #00d7ff; text-decoration-color: #00d7ff\">None</span>, <span style=\"color: #00d7ff; text-decoration-color: #00d7ff\">None</span>)              │               <span style=\"color: #00af00; text-decoration-color: #00af00\">0</span> │ -                          │\n",
       "├───────────────────────────────┼───────────────────────────┼─────────────────┼────────────────────────────┤\n",
       "│ token_ids (<span style=\"color: #0087ff; text-decoration-color: #0087ff\">InputLayer</span>)        │ (<span style=\"color: #00d7ff; text-decoration-color: #00d7ff\">None</span>, <span style=\"color: #00d7ff; text-decoration-color: #00d7ff\">None</span>)              │               <span style=\"color: #00af00; text-decoration-color: #00af00\">0</span> │ -                          │\n",
       "├───────────────────────────────┼───────────────────────────┼─────────────────┼────────────────────────────┤\n",
       "│ gemma_backbone                │ (<span style=\"color: #00d7ff; text-decoration-color: #00d7ff\">None</span>, <span style=\"color: #00d7ff; text-decoration-color: #00d7ff\">None</span>, <span style=\"color: #00af00; text-decoration-color: #00af00\">2048</span>)        │   <span style=\"color: #00af00; text-decoration-color: #00af00\">2,506,172,416</span> │ padding_mask[<span style=\"color: #00af00; text-decoration-color: #00af00\">0</span>][<span style=\"color: #00af00; text-decoration-color: #00af00\">0</span>],        │\n",
       "│ (<span style=\"color: #0087ff; text-decoration-color: #0087ff\">GemmaBackbone</span>)               │                           │                 │ token_ids[<span style=\"color: #00af00; text-decoration-color: #00af00\">0</span>][<span style=\"color: #00af00; text-decoration-color: #00af00\">0</span>]            │\n",
       "├───────────────────────────────┼───────────────────────────┼─────────────────┼────────────────────────────┤\n",
       "│ token_embedding               │ (<span style=\"color: #00d7ff; text-decoration-color: #00d7ff\">None</span>, <span style=\"color: #00d7ff; text-decoration-color: #00d7ff\">None</span>, <span style=\"color: #00af00; text-decoration-color: #00af00\">256000</span>)      │     <span style=\"color: #00af00; text-decoration-color: #00af00\">524,288,000</span> │ gemma_backbone[<span style=\"color: #00af00; text-decoration-color: #00af00\">0</span>][<span style=\"color: #00af00; text-decoration-color: #00af00\">0</span>]       │\n",
       "│ (<span style=\"color: #0087ff; text-decoration-color: #0087ff\">ReversibleEmbedding</span>)         │                           │                 │                            │\n",
       "└───────────────────────────────┴───────────────────────────┴─────────────────┴────────────────────────────┘\n",
       "</pre>\n"
      ],
      "text/plain": [
       "┏━━━━━━━━━━━━━━━━━━━━━━━━━━━━━━━┳━━━━━━━━━━━━━━━━━━━━━━━━━━━┳━━━━━━━━━━━━━━━━━┳━━━━━━━━━━━━━━━━━━━━━━━━━━━━┓\n",
       "┃\u001b[1m \u001b[0m\u001b[1mLayer (type)                 \u001b[0m\u001b[1m \u001b[0m┃\u001b[1m \u001b[0m\u001b[1mOutput Shape             \u001b[0m\u001b[1m \u001b[0m┃\u001b[1m \u001b[0m\u001b[1m        Param #\u001b[0m\u001b[1m \u001b[0m┃\u001b[1m \u001b[0m\u001b[1mConnected to              \u001b[0m\u001b[1m \u001b[0m┃\n",
       "┡━━━━━━━━━━━━━━━━━━━━━━━━━━━━━━━╇━━━━━━━━━━━━━━━━━━━━━━━━━━━╇━━━━━━━━━━━━━━━━━╇━━━━━━━━━━━━━━━━━━━━━━━━━━━━┩\n",
       "│ padding_mask (\u001b[38;5;33mInputLayer\u001b[0m)     │ (\u001b[38;5;45mNone\u001b[0m, \u001b[38;5;45mNone\u001b[0m)              │               \u001b[38;5;34m0\u001b[0m │ -                          │\n",
       "├───────────────────────────────┼───────────────────────────┼─────────────────┼────────────────────────────┤\n",
       "│ token_ids (\u001b[38;5;33mInputLayer\u001b[0m)        │ (\u001b[38;5;45mNone\u001b[0m, \u001b[38;5;45mNone\u001b[0m)              │               \u001b[38;5;34m0\u001b[0m │ -                          │\n",
       "├───────────────────────────────┼───────────────────────────┼─────────────────┼────────────────────────────┤\n",
       "│ gemma_backbone                │ (\u001b[38;5;45mNone\u001b[0m, \u001b[38;5;45mNone\u001b[0m, \u001b[38;5;34m2048\u001b[0m)        │   \u001b[38;5;34m2,506,172,416\u001b[0m │ padding_mask[\u001b[38;5;34m0\u001b[0m][\u001b[38;5;34m0\u001b[0m],        │\n",
       "│ (\u001b[38;5;33mGemmaBackbone\u001b[0m)               │                           │                 │ token_ids[\u001b[38;5;34m0\u001b[0m][\u001b[38;5;34m0\u001b[0m]            │\n",
       "├───────────────────────────────┼───────────────────────────┼─────────────────┼────────────────────────────┤\n",
       "│ token_embedding               │ (\u001b[38;5;45mNone\u001b[0m, \u001b[38;5;45mNone\u001b[0m, \u001b[38;5;34m256000\u001b[0m)      │     \u001b[38;5;34m524,288,000\u001b[0m │ gemma_backbone[\u001b[38;5;34m0\u001b[0m][\u001b[38;5;34m0\u001b[0m]       │\n",
       "│ (\u001b[38;5;33mReversibleEmbedding\u001b[0m)         │                           │                 │                            │\n",
       "└───────────────────────────────┴───────────────────────────┴─────────────────┴────────────────────────────┘\n"
      ]
     },
     "metadata": {},
     "output_type": "display_data"
    },
    {
     "data": {
      "text/html": [
       "<pre style=\"white-space:pre;overflow-x:auto;line-height:normal;font-family:Menlo,'DejaVu Sans Mono',consolas,'Courier New',monospace\"><span style=\"font-weight: bold\"> Total params: </span><span style=\"color: #00af00; text-decoration-color: #00af00\">2,506,172,416</span> (9.34 GB)\n",
       "</pre>\n"
      ],
      "text/plain": [
       "\u001b[1m Total params: \u001b[0m\u001b[38;5;34m2,506,172,416\u001b[0m (9.34 GB)\n"
      ]
     },
     "metadata": {},
     "output_type": "display_data"
    },
    {
     "data": {
      "text/html": [
       "<pre style=\"white-space:pre;overflow-x:auto;line-height:normal;font-family:Menlo,'DejaVu Sans Mono',consolas,'Courier New',monospace\"><span style=\"font-weight: bold\"> Trainable params: </span><span style=\"color: #00af00; text-decoration-color: #00af00\">2,506,172,416</span> (9.34 GB)\n",
       "</pre>\n"
      ],
      "text/plain": [
       "\u001b[1m Trainable params: \u001b[0m\u001b[38;5;34m2,506,172,416\u001b[0m (9.34 GB)\n"
      ]
     },
     "metadata": {},
     "output_type": "display_data"
    },
    {
     "data": {
      "text/html": [
       "<pre style=\"white-space:pre;overflow-x:auto;line-height:normal;font-family:Menlo,'DejaVu Sans Mono',consolas,'Courier New',monospace\"><span style=\"font-weight: bold\"> Non-trainable params: </span><span style=\"color: #00af00; text-decoration-color: #00af00\">0</span> (0.00 B)\n",
       "</pre>\n"
      ],
      "text/plain": [
       "\u001b[1m Non-trainable params: \u001b[0m\u001b[38;5;34m0\u001b[0m (0.00 B)\n"
      ]
     },
     "metadata": {},
     "output_type": "display_data"
    }
   ],
   "source": [
    "gemma_lm = keras_nlp.models.GemmaCausalLM.from_preset(\"gemma_2b_en\")\n",
    "gemma_lm.summary()"
   ]
  },
  {
   "cell_type": "code",
   "execution_count": 11,
   "id": "547f2773",
   "metadata": {},
   "outputs": [],
   "source": [
    "prompt = template.format(\n",
    "    instruction = \"What should I do on a trip to Europe?\",\n",
    "    response = \"\",\n",
    ")"
   ]
  },
  {
   "cell_type": "code",
   "execution_count": 12,
   "id": "99b02bfd",
   "metadata": {},
   "outputs": [
    {
     "name": "stdout",
     "output_type": "stream",
     "text": [
      "Instruction: \n",
      " What should I do on a trip to Europe? \n",
      "\n",
      " Response: \n",
      " 1. You must know how to travel Europe by train, bus, airplane, and car, and how to buy a train ticket, a bus ticket, an airplane ticket, and a car ticket. \n",
      "\n",
      " 2. You must know how to buy a hotel room in Europe and where to find it. \n",
      "\n",
      " 3. You must know how to buy a tour ticket in Europe and where to find it. \n",
      "\n",
      " 4. You must know how to get around in Europe. \n",
      "\n",
      " 5. You must know what to do in Europe. \n",
      "\n",
      " 6. You must know the best places to go in Europe. \n",
      "\n",
      " 7. You must know the best times to go in Europe. \n",
      "\n",
      " 8. You must know the best ways to get from Europe to the U.S. \n",
      "\n",
      " 9. You must know what to do with your time in Europe. \n",
      "\n",
      " 10. You must know where to find good information about Europe, and where you can find a good guidebook to Europe. \n",
      "\n",
      " 11. You must know how to get to Europe by train, bus, airplane, and\n"
     ]
    }
   ],
   "source": [
    "sampler = keras_nlp.samplers.TopKSampler(k=5,seed=2)\n",
    "gemma_lm.compile(sampler=sampler)\n",
    "print(gemma_lm.generate(prompt,max_length=256))"
   ]
  },
  {
   "cell_type": "markdown",
   "id": "3f6c1263",
   "metadata": {},
   "source": [
    "## LoRA Fine Tuning"
   ]
  },
  {
   "cell_type": "code",
   "execution_count": 13,
   "id": "048332ad",
   "metadata": {},
   "outputs": [
    {
     "data": {
      "text/html": [
       "<pre style=\"white-space:pre;overflow-x:auto;line-height:normal;font-family:Menlo,'DejaVu Sans Mono',consolas,'Courier New',monospace\"><span style=\"font-weight: bold\">Preprocessor: \"gemma_causal_lm_preprocessor\"</span>\n",
       "</pre>\n"
      ],
      "text/plain": [
       "\u001b[1mPreprocessor: \"gemma_causal_lm_preprocessor\"\u001b[0m\n"
      ]
     },
     "metadata": {},
     "output_type": "display_data"
    },
    {
     "data": {
      "text/html": [
       "<pre style=\"white-space:pre;overflow-x:auto;line-height:normal;font-family:Menlo,'DejaVu Sans Mono',consolas,'Courier New',monospace\">┏━━━━━━━━━━━━━━━━━━━━━━━━━━━━━━━━━━━━━━━━━━━━━━━━━━━━━━━━━━━━━━━┳━━━━━━━━━━━━━━━━━━━━━━━━━━━━━━━━━━━━━━━━━━┓\n",
       "┃<span style=\"font-weight: bold\"> Layer (type)                                                  </span>┃<span style=\"font-weight: bold\">                                   Config </span>┃\n",
       "┡━━━━━━━━━━━━━━━━━━━━━━━━━━━━━━━━━━━━━━━━━━━━━━━━━━━━━━━━━━━━━━━╇━━━━━━━━━━━━━━━━━━━━━━━━━━━━━━━━━━━━━━━━━━┩\n",
       "│ gemma_tokenizer (<span style=\"color: #0087ff; text-decoration-color: #0087ff\">GemmaTokenizer</span>)                              │                      Vocab size: <span style=\"color: #00af00; text-decoration-color: #00af00\">256,000</span> │\n",
       "└───────────────────────────────────────────────────────────────┴──────────────────────────────────────────┘\n",
       "</pre>\n"
      ],
      "text/plain": [
       "┏━━━━━━━━━━━━━━━━━━━━━━━━━━━━━━━━━━━━━━━━━━━━━━━━━━━━━━━━━━━━━━━┳━━━━━━━━━━━━━━━━━━━━━━━━━━━━━━━━━━━━━━━━━━┓\n",
       "┃\u001b[1m \u001b[0m\u001b[1mLayer (type)                                                 \u001b[0m\u001b[1m \u001b[0m┃\u001b[1m \u001b[0m\u001b[1m                                  Config\u001b[0m\u001b[1m \u001b[0m┃\n",
       "┡━━━━━━━━━━━━━━━━━━━━━━━━━━━━━━━━━━━━━━━━━━━━━━━━━━━━━━━━━━━━━━━╇━━━━━━━━━━━━━━━━━━━━━━━━━━━━━━━━━━━━━━━━━━┩\n",
       "│ gemma_tokenizer (\u001b[38;5;33mGemmaTokenizer\u001b[0m)                              │                      Vocab size: \u001b[38;5;34m256,000\u001b[0m │\n",
       "└───────────────────────────────────────────────────────────────┴──────────────────────────────────────────┘\n"
      ]
     },
     "metadata": {},
     "output_type": "display_data"
    },
    {
     "data": {
      "text/html": [
       "<pre style=\"white-space:pre;overflow-x:auto;line-height:normal;font-family:Menlo,'DejaVu Sans Mono',consolas,'Courier New',monospace\"><span style=\"font-weight: bold\">Model: \"gemma_causal_lm\"</span>\n",
       "</pre>\n"
      ],
      "text/plain": [
       "\u001b[1mModel: \"gemma_causal_lm\"\u001b[0m\n"
      ]
     },
     "metadata": {},
     "output_type": "display_data"
    },
    {
     "data": {
      "text/html": [
       "<pre style=\"white-space:pre;overflow-x:auto;line-height:normal;font-family:Menlo,'DejaVu Sans Mono',consolas,'Courier New',monospace\">┏━━━━━━━━━━━━━━━━━━━━━━━━━━━━━━━┳━━━━━━━━━━━━━━━━━━━━━━━━━━━┳━━━━━━━━━━━━━━━━━┳━━━━━━━━━━━━━━━━━━━━━━━━━━━━┓\n",
       "┃<span style=\"font-weight: bold\"> Layer (type)                  </span>┃<span style=\"font-weight: bold\"> Output Shape              </span>┃<span style=\"font-weight: bold\">         Param # </span>┃<span style=\"font-weight: bold\"> Connected to               </span>┃\n",
       "┡━━━━━━━━━━━━━━━━━━━━━━━━━━━━━━━╇━━━━━━━━━━━━━━━━━━━━━━━━━━━╇━━━━━━━━━━━━━━━━━╇━━━━━━━━━━━━━━━━━━━━━━━━━━━━┩\n",
       "│ padding_mask (<span style=\"color: #0087ff; text-decoration-color: #0087ff\">InputLayer</span>)     │ (<span style=\"color: #00d7ff; text-decoration-color: #00d7ff\">None</span>, <span style=\"color: #00d7ff; text-decoration-color: #00d7ff\">None</span>)              │               <span style=\"color: #00af00; text-decoration-color: #00af00\">0</span> │ -                          │\n",
       "├───────────────────────────────┼───────────────────────────┼─────────────────┼────────────────────────────┤\n",
       "│ token_ids (<span style=\"color: #0087ff; text-decoration-color: #0087ff\">InputLayer</span>)        │ (<span style=\"color: #00d7ff; text-decoration-color: #00d7ff\">None</span>, <span style=\"color: #00d7ff; text-decoration-color: #00d7ff\">None</span>)              │               <span style=\"color: #00af00; text-decoration-color: #00af00\">0</span> │ -                          │\n",
       "├───────────────────────────────┼───────────────────────────┼─────────────────┼────────────────────────────┤\n",
       "│ gemma_backbone                │ (<span style=\"color: #00d7ff; text-decoration-color: #00d7ff\">None</span>, <span style=\"color: #00d7ff; text-decoration-color: #00d7ff\">None</span>, <span style=\"color: #00af00; text-decoration-color: #00af00\">2048</span>)        │   <span style=\"color: #00af00; text-decoration-color: #00af00\">2,507,536,384</span> │ padding_mask[<span style=\"color: #00af00; text-decoration-color: #00af00\">0</span>][<span style=\"color: #00af00; text-decoration-color: #00af00\">0</span>],        │\n",
       "│ (<span style=\"color: #0087ff; text-decoration-color: #0087ff\">GemmaBackbone</span>)               │                           │                 │ token_ids[<span style=\"color: #00af00; text-decoration-color: #00af00\">0</span>][<span style=\"color: #00af00; text-decoration-color: #00af00\">0</span>]            │\n",
       "├───────────────────────────────┼───────────────────────────┼─────────────────┼────────────────────────────┤\n",
       "│ token_embedding               │ (<span style=\"color: #00d7ff; text-decoration-color: #00d7ff\">None</span>, <span style=\"color: #00d7ff; text-decoration-color: #00d7ff\">None</span>, <span style=\"color: #00af00; text-decoration-color: #00af00\">256000</span>)      │     <span style=\"color: #00af00; text-decoration-color: #00af00\">524,288,000</span> │ gemma_backbone[<span style=\"color: #00af00; text-decoration-color: #00af00\">0</span>][<span style=\"color: #00af00; text-decoration-color: #00af00\">0</span>]       │\n",
       "│ (<span style=\"color: #0087ff; text-decoration-color: #0087ff\">ReversibleEmbedding</span>)         │                           │                 │                            │\n",
       "└───────────────────────────────┴───────────────────────────┴─────────────────┴────────────────────────────┘\n",
       "</pre>\n"
      ],
      "text/plain": [
       "┏━━━━━━━━━━━━━━━━━━━━━━━━━━━━━━━┳━━━━━━━━━━━━━━━━━━━━━━━━━━━┳━━━━━━━━━━━━━━━━━┳━━━━━━━━━━━━━━━━━━━━━━━━━━━━┓\n",
       "┃\u001b[1m \u001b[0m\u001b[1mLayer (type)                 \u001b[0m\u001b[1m \u001b[0m┃\u001b[1m \u001b[0m\u001b[1mOutput Shape             \u001b[0m\u001b[1m \u001b[0m┃\u001b[1m \u001b[0m\u001b[1m        Param #\u001b[0m\u001b[1m \u001b[0m┃\u001b[1m \u001b[0m\u001b[1mConnected to              \u001b[0m\u001b[1m \u001b[0m┃\n",
       "┡━━━━━━━━━━━━━━━━━━━━━━━━━━━━━━━╇━━━━━━━━━━━━━━━━━━━━━━━━━━━╇━━━━━━━━━━━━━━━━━╇━━━━━━━━━━━━━━━━━━━━━━━━━━━━┩\n",
       "│ padding_mask (\u001b[38;5;33mInputLayer\u001b[0m)     │ (\u001b[38;5;45mNone\u001b[0m, \u001b[38;5;45mNone\u001b[0m)              │               \u001b[38;5;34m0\u001b[0m │ -                          │\n",
       "├───────────────────────────────┼───────────────────────────┼─────────────────┼────────────────────────────┤\n",
       "│ token_ids (\u001b[38;5;33mInputLayer\u001b[0m)        │ (\u001b[38;5;45mNone\u001b[0m, \u001b[38;5;45mNone\u001b[0m)              │               \u001b[38;5;34m0\u001b[0m │ -                          │\n",
       "├───────────────────────────────┼───────────────────────────┼─────────────────┼────────────────────────────┤\n",
       "│ gemma_backbone                │ (\u001b[38;5;45mNone\u001b[0m, \u001b[38;5;45mNone\u001b[0m, \u001b[38;5;34m2048\u001b[0m)        │   \u001b[38;5;34m2,507,536,384\u001b[0m │ padding_mask[\u001b[38;5;34m0\u001b[0m][\u001b[38;5;34m0\u001b[0m],        │\n",
       "│ (\u001b[38;5;33mGemmaBackbone\u001b[0m)               │                           │                 │ token_ids[\u001b[38;5;34m0\u001b[0m][\u001b[38;5;34m0\u001b[0m]            │\n",
       "├───────────────────────────────┼───────────────────────────┼─────────────────┼────────────────────────────┤\n",
       "│ token_embedding               │ (\u001b[38;5;45mNone\u001b[0m, \u001b[38;5;45mNone\u001b[0m, \u001b[38;5;34m256000\u001b[0m)      │     \u001b[38;5;34m524,288,000\u001b[0m │ gemma_backbone[\u001b[38;5;34m0\u001b[0m][\u001b[38;5;34m0\u001b[0m]       │\n",
       "│ (\u001b[38;5;33mReversibleEmbedding\u001b[0m)         │                           │                 │                            │\n",
       "└───────────────────────────────┴───────────────────────────┴─────────────────┴────────────────────────────┘\n"
      ]
     },
     "metadata": {},
     "output_type": "display_data"
    },
    {
     "data": {
      "text/html": [
       "<pre style=\"white-space:pre;overflow-x:auto;line-height:normal;font-family:Menlo,'DejaVu Sans Mono',consolas,'Courier New',monospace\"><span style=\"font-weight: bold\"> Total params: </span><span style=\"color: #00af00; text-decoration-color: #00af00\">2,507,536,384</span> (9.34 GB)\n",
       "</pre>\n"
      ],
      "text/plain": [
       "\u001b[1m Total params: \u001b[0m\u001b[38;5;34m2,507,536,384\u001b[0m (9.34 GB)\n"
      ]
     },
     "metadata": {},
     "output_type": "display_data"
    },
    {
     "data": {
      "text/html": [
       "<pre style=\"white-space:pre;overflow-x:auto;line-height:normal;font-family:Menlo,'DejaVu Sans Mono',consolas,'Courier New',monospace\"><span style=\"font-weight: bold\"> Trainable params: </span><span style=\"color: #00af00; text-decoration-color: #00af00\">1,363,968</span> (5.20 MB)\n",
       "</pre>\n"
      ],
      "text/plain": [
       "\u001b[1m Trainable params: \u001b[0m\u001b[38;5;34m1,363,968\u001b[0m (5.20 MB)\n"
      ]
     },
     "metadata": {},
     "output_type": "display_data"
    },
    {
     "data": {
      "text/html": [
       "<pre style=\"white-space:pre;overflow-x:auto;line-height:normal;font-family:Menlo,'DejaVu Sans Mono',consolas,'Courier New',monospace\"><span style=\"font-weight: bold\"> Non-trainable params: </span><span style=\"color: #00af00; text-decoration-color: #00af00\">2,506,172,416</span> (9.34 GB)\n",
       "</pre>\n"
      ],
      "text/plain": [
       "\u001b[1m Non-trainable params: \u001b[0m\u001b[38;5;34m2,506,172,416\u001b[0m (9.34 GB)\n"
      ]
     },
     "metadata": {},
     "output_type": "display_data"
    }
   ],
   "source": [
    "gemma_lm.backbone.enable_lora(rank=4)\n",
    "gemma_lm.summary()"
   ]
  },
  {
   "cell_type": "code",
   "execution_count": 14,
   "id": "2b6026be",
   "metadata": {},
   "outputs": [],
   "source": [
    "gemma_lm.preprocessor.sequence_length = 512\n",
    "\n",
    "optimizer = keras.optimizers.AdamW(\n",
    "    learning_rate=5e-5,\n",
    "    weight_decay=0.01,\n",
    ")"
   ]
  },
  {
   "cell_type": "code",
   "execution_count": 15,
   "id": "1160ed62",
   "metadata": {},
   "outputs": [],
   "source": [
    "optimizer.exclude_from_weight_decay(var_names=[\"bias\",\"scale\"])"
   ]
  },
  {
   "cell_type": "code",
   "execution_count": 16,
   "id": "9bf884d7",
   "metadata": {},
   "outputs": [],
   "source": [
    "gemma_lm.compile(\n",
    "    loss=keras.losses.SparseCategoricalCrossentropy(from_logits=True),\n",
    "    optimizer=optimizer,\n",
    "    weighted_metrics=[keras.metrics.SparseCategoricalAccuracy()],\n",
    ")"
   ]
  },
  {
   "cell_type": "code",
   "execution_count": 17,
   "id": "771a3594",
   "metadata": {},
   "outputs": [
    {
     "name": "stdout",
     "output_type": "stream",
     "text": [
      "\u001b[1m50/50\u001b[0m \u001b[32m━━━━━━━━━━━━━━━━━━━━\u001b[0m\u001b[37m\u001b[0m \u001b[1m1153s\u001b[0m 23s/step - loss: 0.4742 - sparse_categorical_accuracy: 0.4620\n"
     ]
    },
    {
     "data": {
      "text/plain": [
       "<keras.src.callbacks.history.History at 0x5b8280e20>"
      ]
     },
     "execution_count": 17,
     "metadata": {},
     "output_type": "execute_result"
    }
   ],
   "source": [
    "gemma_lm.fit(data, epochs=1, batch_size=1)"
   ]
  },
  {
   "cell_type": "code",
   "execution_count": 18,
   "id": "59390e6e",
   "metadata": {},
   "outputs": [],
   "source": [
    "prompt = template.format(\n",
    "    instruction = \"What should I do on a trip to Europe?\",\n",
    "    response = \"\",\n",
    ")"
   ]
  },
  {
   "cell_type": "code",
   "execution_count": 19,
   "id": "1a4fa17f",
   "metadata": {},
   "outputs": [
    {
     "name": "stdout",
     "output_type": "stream",
     "text": [
      "Instruction: \n",
      " What should I do on a trip to Europe? \n",
      "\n",
      " Response: \n",
      " 1) If you have a trip, please book a hotel in advance to avoid the hotel is full. \n",
      " 2) If the hotel you have booked is not available, please book a hotel in advance. \n",
      " 3) If you are going to a big city, you should book a hotel in advance. \n",
      " 4) If you are going to a small town in Europe, you can book a hotel in advance or book it on the spot. \n",
      "\n",
      " 5) If you go to the countryside in France, you can rent a house or a room. \n",
      " 6) If you want to go to Paris, you should book a hotel in advance. \n",
      " 7) If you have a flight from London to Paris, you should buy a train ticket to Paris, because the train ticket is more expensive than the plane ticket. \n",
      " 8) If you want to visit the Alps, you should buy a train ticket to Geneva, because the price of the bus ticket to France is more expensive. \n",
      " 9) If you want to travel around Europe, you should buy a Eurail pass. \n",
      " \n"
     ]
    }
   ],
   "source": [
    "sampler = keras_nlp.samplers.TopKSampler(k=5,seed=2)\n",
    "gemma_lm.compile(sampler=sampler)\n",
    "print(gemma_lm.generate(prompt,max_length=256))"
   ]
  }
 ],
 "metadata": {
  "kernelspec": {
   "display_name": "Python 3",
   "language": "python",
   "name": "python3"
  },
  "language_info": {
   "codemirror_mode": {
    "name": "ipython",
    "version": 3
   },
   "file_extension": ".py",
   "mimetype": "text/x-python",
   "name": "python",
   "nbconvert_exporter": "python",
   "pygments_lexer": "ipython3",
   "version": "3.10.18"
  }
 },
 "nbformat": 4,
 "nbformat_minor": 5
}
