{
  "nbformat": 4,
  "nbformat_minor": 0,
  "metadata": {
    "colab": {
      "provenance": [],
      "gpuType": "A100"
    },
    "kernelspec": {
      "name": "python3",
      "display_name": "Python 3"
    },
    "language_info": {
      "name": "python"
    },
    "accelerator": "GPU"
  },
  "cells": [
    {
      "cell_type": "markdown",
      "source": [
        "## PTQ (Post Training Quantization)"
      ],
      "metadata": {
        "id": "g9FyshgokB29"
      }
    },
    {
      "cell_type": "markdown",
      "source": [
        "### Dynamic PTQ"
      ],
      "metadata": {
        "id": "tH-yaQn2kIF6"
      }
    },
    {
      "cell_type": "markdown",
      "source": [
        "In this type of quantization, we manually perform the weight quantization after the training of the model without any retraining or without any calibration."
      ],
      "metadata": {
        "id": "PzNVijjTkP-P"
      }
    },
    {
      "cell_type": "code",
      "source": [
        "import torch\n",
        "import torch.nn as nn\n",
        "import torch.nn.functional as F\n",
        "from sklearn.datasets import make_moons\n",
        "from sklearn.model_selection import train_test_split\n",
        "import numpy as np\n",
        "import matplotlib.pyplot as plt\n",
        "from sklearn.preprocessing import StandardScaler"
      ],
      "metadata": {
        "id": "fWjBidDzkMcD"
      },
      "execution_count": 1,
      "outputs": []
    },
    {
      "cell_type": "code",
      "source": [
        "X,y = make_moons(n_samples=5000,noise=0.5,random_state=42)"
      ],
      "metadata": {
        "id": "sgtHd4h0jv1t"
      },
      "execution_count": 2,
      "outputs": []
    },
    {
      "cell_type": "code",
      "execution_count": 3,
      "metadata": {
        "colab": {
          "base_uri": "https://localhost:8080/"
        },
        "id": "wK7MNNu0juFx",
        "outputId": "efeaf832-1f15-455e-ee4a-2b5c2b90b560"
      },
      "outputs": [
        {
          "output_type": "execute_result",
          "data": {
            "text/plain": [
              "array([[ 0.64527536,  1.38251014],\n",
              "       [ 0.14514823, -0.32157033],\n",
              "       [ 0.11945131,  0.41631146],\n",
              "       ...,\n",
              "       [ 0.6360473 ,  0.66530771],\n",
              "       [ 1.61542641, -0.24249711],\n",
              "       [ 0.10599548,  1.0899585 ]])"
            ]
          },
          "metadata": {},
          "execution_count": 3
        }
      ],
      "source": [
        "X"
      ]
    },
    {
      "cell_type": "code",
      "source": [
        "X.shape"
      ],
      "metadata": {
        "colab": {
          "base_uri": "https://localhost:8080/"
        },
        "id": "aQJQEcUUjv4U",
        "outputId": "80b6655a-5a11-405c-e649-22b0206606b5"
      },
      "execution_count": 4,
      "outputs": [
        {
          "output_type": "execute_result",
          "data": {
            "text/plain": [
              "(5000, 2)"
            ]
          },
          "metadata": {},
          "execution_count": 4
        }
      ]
    },
    {
      "cell_type": "code",
      "source": [
        "X = StandardScaler().fit_transform(X)"
      ],
      "metadata": {
        "id": "ep7ciLzijv6-"
      },
      "execution_count": 5,
      "outputs": []
    },
    {
      "cell_type": "code",
      "source": [
        "X = torch.tensor(X, dtype=torch.float32)"
      ],
      "metadata": {
        "id": "3E1JQ289jv9o"
      },
      "execution_count": 6,
      "outputs": []
    },
    {
      "cell_type": "code",
      "source": [
        "y = torch.tensor(y.reshape(-1,1), dtype=torch.float32)"
      ],
      "metadata": {
        "id": "ZIfmIRLejv_-"
      },
      "execution_count": 7,
      "outputs": []
    },
    {
      "cell_type": "code",
      "source": [
        "X_train, X_test, y_train, y_test = train_test_split(X,y, test_size=0.2, random_state=42)"
      ],
      "metadata": {
        "id": "Ogyn1gObjwCe"
      },
      "execution_count": 8,
      "outputs": []
    },
    {
      "cell_type": "markdown",
      "source": [
        "### Creating the MLP Model with 6 hidden layers"
      ],
      "metadata": {
        "id": "m30-mQsOluup"
      }
    },
    {
      "cell_type": "code",
      "source": [
        "class MLP(nn.Module):\n",
        "  def __init__(self):\n",
        "    super().__init__()\n",
        "\n",
        "    self.fc1 = nn.Linear(2,128)\n",
        "    self.fc2 = nn.Linear(128,64)\n",
        "    self.fc3 = nn.Linear(64,64)\n",
        "    self.fc4 = nn.Linear(64,32)\n",
        "    self.fc5 = nn.Linear(32,16)\n",
        "    self.fc6 = nn.Linear(16,8)\n",
        "    self.fc7 = nn.Linear(8,1)\n",
        "\n",
        "  def forward(self,x):\n",
        "    x = F.relu(self.fc1(x))\n",
        "    x = F.relu(self.fc2(x))\n",
        "    x = F.relu(self.fc3(x))\n",
        "    x = F.relu(self.fc4(x))\n",
        "    x = F.relu(self.fc5(x))\n",
        "    x = F.relu(self.fc6(x))\n",
        "    return torch.sigmoid(self.fc7(x))"
      ],
      "metadata": {
        "id": "AnwFNdHDjwE0"
      },
      "execution_count": 9,
      "outputs": []
    },
    {
      "cell_type": "code",
      "source": [
        "model_fp32 = MLP()"
      ],
      "metadata": {
        "id": "z3Avz9DWjwHe"
      },
      "execution_count": 10,
      "outputs": []
    },
    {
      "cell_type": "code",
      "source": [
        "model_fp32.parameters()"
      ],
      "metadata": {
        "colab": {
          "base_uri": "https://localhost:8080/"
        },
        "id": "hpVur6ZsjwJ-",
        "outputId": "3774d6a9-5a00-4050-d570-757c1ae9a113"
      },
      "execution_count": 11,
      "outputs": [
        {
          "output_type": "execute_result",
          "data": {
            "text/plain": [
              "<generator object Module.parameters at 0x7a1a6f7b7220>"
            ]
          },
          "metadata": {},
          "execution_count": 11
        }
      ]
    },
    {
      "cell_type": "code",
      "source": [
        "optimizer = torch.optim.Adam(model_fp32.parameters(), lr=0.01)"
      ],
      "metadata": {
        "id": "2RyK9zF5jwM8"
      },
      "execution_count": 12,
      "outputs": []
    },
    {
      "cell_type": "code",
      "source": [
        "loss_fn = nn.BCELoss()"
      ],
      "metadata": {
        "id": "kROQOJeXjwPr"
      },
      "execution_count": 13,
      "outputs": []
    },
    {
      "cell_type": "code",
      "source": [
        "for epoch in range(2000):\n",
        "  model_fp32.train()\n",
        "  optimizer.zero_grad()  # Initializing the gradient.\n",
        "  out = model_fp32(X_train)\n",
        "  loss = loss_fn(out, y_train)\n",
        "  loss.backward()\n",
        "  optimizer.step()\n",
        "  if epoch % 500 == 0:\n",
        "    print(f\"Epoch: {epoch} Loss: {loss}\")"
      ],
      "metadata": {
        "colab": {
          "base_uri": "https://localhost:8080/"
        },
        "id": "Gm7KKZc9mzKU",
        "outputId": "2fcf7304-ceaa-4188-f56d-76d67f0f631f"
      },
      "execution_count": 14,
      "outputs": [
        {
          "output_type": "stream",
          "name": "stdout",
          "text": [
            "Epoch: 0 Loss: 0.6934294700622559\n",
            "Epoch: 500 Loss: 0.37679675221443176\n",
            "Epoch: 1000 Loss: 0.3685001730918884\n",
            "Epoch: 1500 Loss: 0.35359877347946167\n"
          ]
        }
      ]
    },
    {
      "cell_type": "code",
      "source": [
        "def accuracy(model, X, y):\n",
        "  model.eval()\n",
        "  with torch.no_grad():\n",
        "    preds = model(X)\n",
        "    preds = (preds > 0.5).float()\n",
        "    return (preds == y).float().mean().item()"
      ],
      "metadata": {
        "id": "LvYjgiqwmzMq"
      },
      "execution_count": 15,
      "outputs": []
    },
    {
      "cell_type": "code",
      "source": [
        "print(\"\\nFP32 Accracy = \", accuracy(model_fp32, X_test, y_test))"
      ],
      "metadata": {
        "colab": {
          "base_uri": "https://localhost:8080/"
        },
        "id": "EwqQwYtJmzO_",
        "outputId": "74b3a97d-26cb-4989-f5f4-6417bc4cd0fa"
      },
      "execution_count": 16,
      "outputs": [
        {
          "output_type": "stream",
          "name": "stdout",
          "text": [
            "\n",
            "FP32 Accracy =  0.8119999766349792\n"
          ]
        }
      ]
    },
    {
      "cell_type": "markdown",
      "source": [
        "### Dynamic Quanitzation"
      ],
      "metadata": {
        "id": "HlkoA5kroFmW"
      }
    },
    {
      "cell_type": "code",
      "source": [
        "from torch.quantization import quantize_dynamic\n",
        "\n",
        "model_int8 = quantize_dynamic(\n",
        "    model_fp32,\n",
        "    {nn.Linear},\n",
        "    dtype = torch.qint8\n",
        ")"
      ],
      "metadata": {
        "colab": {
          "base_uri": "https://localhost:8080/"
        },
        "id": "svWvamG6oFAE",
        "outputId": "f805c2f7-d954-4155-d16d-8349c536c07c"
      },
      "execution_count": 17,
      "outputs": [
        {
          "output_type": "stream",
          "name": "stderr",
          "text": [
            "/tmp/ipython-input-2163229954.py:3: DeprecationWarning: torch.ao.quantization is deprecated and will be removed in 2.10. \n",
            "For migrations of users: \n",
            "1. Eager mode quantization (torch.ao.quantization.quantize, torch.ao.quantization.quantize_dynamic), please migrate to use torchao eager mode quantize_ API instead \n",
            "2. FX graph mode quantization (torch.ao.quantization.quantize_fx.prepare_fx,torch.ao.quantization.quantize_fx.convert_fx, please migrate to use torchao pt2e quantization API instead (prepare_pt2e, convert_pt2e) \n",
            "3. pt2e quantization has been migrated to torchao (https://github.com/pytorch/ao/tree/main/torchao/quantization/pt2e) \n",
            "see https://github.com/pytorch/ao/issues/2259 for more details\n",
            "  model_int8 = quantize_dynamic(\n"
          ]
        }
      ]
    },
    {
      "cell_type": "code",
      "source": [
        "print(\"INT8 Quantized Model Accuracy: \", accuracy(model_int8, X_test, y_test))"
      ],
      "metadata": {
        "colab": {
          "base_uri": "https://localhost:8080/"
        },
        "id": "q6zmUO-bmzRi",
        "outputId": "f75dcced-8313-477f-d878-5c4de607ff29"
      },
      "execution_count": 18,
      "outputs": [
        {
          "output_type": "stream",
          "name": "stdout",
          "text": [
            "INT8 Quantized Model Accuracy:  0.8069999814033508\n"
          ]
        }
      ]
    },
    {
      "cell_type": "markdown",
      "source": [
        "#### Saving the Models"
      ],
      "metadata": {
        "id": "6lMNUTITpc8m"
      }
    },
    {
      "cell_type": "code",
      "source": [
        "import os\n",
        "torch.save(model_fp32.state_dict(), \"model_fp32.pt\")\n",
        "torch.save(model_int8.state_dict(), \"model_int8.pt\")"
      ],
      "metadata": {
        "id": "BX2VBXW5mzT2"
      },
      "execution_count": 19,
      "outputs": []
    },
    {
      "cell_type": "markdown",
      "source": [
        "#### Comparing the sizes of both the models"
      ],
      "metadata": {
        "id": "9IP7jKNNpfWL"
      }
    },
    {
      "cell_type": "code",
      "source": [
        "print(\"FP32 Model Size: \", os.path.getsize(\"model_fp32.pt\") / 1e6, \"MB\")\n",
        "print(\"INT8 Model Size: \", os.path.getsize(\"model_int8.pt\") / 1e6, \"MB\")"
      ],
      "metadata": {
        "colab": {
          "base_uri": "https://localhost:8080/"
        },
        "id": "djK9_QY_jwSu",
        "outputId": "716d40f3-5e6f-45ea-ba33-5780e738cc7e"
      },
      "execution_count": 20,
      "outputs": [
        {
          "output_type": "stream",
          "name": "stdout",
          "text": [
            "FP32 Model Size:  0.067317 MB\n",
            "INT8 Model Size:  0.026101 MB\n"
          ]
        }
      ]
    },
    {
      "cell_type": "markdown",
      "source": [
        "### Manual Quantization Logic"
      ],
      "metadata": {
        "id": "llz31vY2dxWo"
      }
    },
    {
      "cell_type": "code",
      "source": [
        "def quantize_tensor(t, num_bits = 8):\n",
        "  qmin = -2**(num_bits - 1)\n",
        "  qmax = 2**(num_bits - 1) - 1\n",
        "  min_val, max_val = t.min(), t.max()\n",
        "  scale = (max_val - min_val) / float(qmax - qmin + 1e-8)\n",
        "  zp = torch.round(-min_val / scale).to(torch.int32)\n",
        "  q_t = torch.clamp(torch.round(t / scale) + zp, qmin, qmax).to(torch.int32)\n",
        "  return q_t, scale, zp"
      ],
      "metadata": {
        "id": "eOhR_0YajwVk"
      },
      "execution_count": 25,
      "outputs": []
    },
    {
      "cell_type": "markdown",
      "source": [
        "### Manual Dequantization Logic"
      ],
      "metadata": {
        "id": "uzQPlzYFeqJV"
      }
    },
    {
      "cell_type": "code",
      "source": [
        "def dequantize_tensor(q_t, scale, zp):\n",
        "  return (q_t.float() - zp) * scale"
      ],
      "metadata": {
        "id": "x2qEMzxsp0Uu"
      },
      "execution_count": 26,
      "outputs": []
    },
    {
      "cell_type": "code",
      "source": [
        "new_model = MLP()"
      ],
      "metadata": {
        "id": "woeIRgIAp0Xn"
      },
      "execution_count": 27,
      "outputs": []
    },
    {
      "cell_type": "code",
      "source": [
        "for name, param in new_model.named_parameters():\n",
        "  print(name)\n",
        "  print(param.shape)"
      ],
      "metadata": {
        "colab": {
          "base_uri": "https://localhost:8080/"
        },
        "id": "Hpqt4BS2p0ez",
        "outputId": "fbcd12bc-70f7-4505-db4c-b5e8b6f68455"
      },
      "execution_count": 28,
      "outputs": [
        {
          "output_type": "stream",
          "name": "stdout",
          "text": [
            "fc1.weight\n",
            "torch.Size([128, 2])\n",
            "fc1.bias\n",
            "torch.Size([128])\n",
            "fc2.weight\n",
            "torch.Size([64, 128])\n",
            "fc2.bias\n",
            "torch.Size([64])\n",
            "fc3.weight\n",
            "torch.Size([64, 64])\n",
            "fc3.bias\n",
            "torch.Size([64])\n",
            "fc4.weight\n",
            "torch.Size([32, 64])\n",
            "fc4.bias\n",
            "torch.Size([32])\n",
            "fc5.weight\n",
            "torch.Size([16, 32])\n",
            "fc5.bias\n",
            "torch.Size([16])\n",
            "fc6.weight\n",
            "torch.Size([8, 16])\n",
            "fc6.bias\n",
            "torch.Size([8])\n",
            "fc7.weight\n",
            "torch.Size([1, 8])\n",
            "fc7.bias\n",
            "torch.Size([1])\n"
          ]
        }
      ]
    },
    {
      "cell_type": "code",
      "source": [
        "# torch.no_grad() -- This means that training is not required and we can simply proceed with quanitzation of the trained weights.\n",
        "\n",
        "with torch.no_grad():\n",
        "  for (name_fp, param_fp), (name_q, param_q) in zip(model_fp32.named_parameters(), new_model.named_parameters()):\n",
        "    q_param, scale, zp = quantize_tensor(param_fp.data)\n",
        "    dq_param = dequantize_tensor(q_param, scale, zp)\n",
        "    param_q.data = dq_param"
      ],
      "metadata": {
        "id": "YJ2SK7J3p0hV"
      },
      "execution_count": 29,
      "outputs": []
    },
    {
      "cell_type": "code",
      "source": [
        "print(\"\\nINT8 Accuracy: \", accuracy(new_model, X_test, y_test))"
      ],
      "metadata": {
        "colab": {
          "base_uri": "https://localhost:8080/"
        },
        "id": "3UG0clSZp0j2",
        "outputId": "c235f049-3627-4bca-d493-b127d318aca8"
      },
      "execution_count": 31,
      "outputs": [
        {
          "output_type": "stream",
          "name": "stdout",
          "text": [
            "\n",
            "INT8 Accuracy:  0.47600001096725464\n"
          ]
        }
      ]
    },
    {
      "cell_type": "code",
      "source": [],
      "metadata": {
        "id": "huxQpzKtp0uR"
      },
      "execution_count": 23,
      "outputs": []
    },
    {
      "cell_type": "code",
      "source": [],
      "metadata": {
        "id": "viZ5_YmSp0x4"
      },
      "execution_count": 23,
      "outputs": []
    },
    {
      "cell_type": "code",
      "source": [],
      "metadata": {
        "id": "jHzJ1oWYjwYM"
      },
      "execution_count": 23,
      "outputs": []
    }
  ]
}