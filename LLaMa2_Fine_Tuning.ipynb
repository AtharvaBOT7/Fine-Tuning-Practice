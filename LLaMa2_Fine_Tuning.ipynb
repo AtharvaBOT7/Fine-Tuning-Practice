{
  "cells": [
    {
      "cell_type": "code",
      "execution_count": 2,
      "metadata": {
        "colab": {
          "base_uri": "https://localhost:8080/",
          "height": 1000
        },
        "id": "95w0oIbUhJXb",
        "outputId": "b3fe3f34-15ec-4504-8560-f01a589ef7d9"
      },
      "outputs": [
        {
          "name": "stdout",
          "output_type": "stream",
          "text": [
            "^C\n"
          ]
        }
      ],
      "source": [
        "!pip install -q accelerate==0.21.0 peft==0.4.0 bitsandbytes==0.40.2 transformers==4.31.0 trl==0.4.7"
      ]
    },
    {
      "cell_type": "code",
      "execution_count": null,
      "metadata": {
        "colab": {
          "base_uri": "https://localhost:8080/",
          "height": 400
        },
        "id": "0dg_KqsnhNkE",
        "outputId": "56b8eef3-786e-406f-b75b-1ee40ec453e8"
      },
      "outputs": [],
      "source": [
        "import os\n",
        "import torch\n",
        "from datasets import load_dataset\n",
        "\n",
        "from transformers import (\n",
        "    AutoModelForCausalLM,\n",
        "    AutoTokenizer,\n",
        "    BitsAndBytesConfig,\n",
        "    HfArgumentParser,\n",
        "    TrainingArguments,\n",
        "    pipeline,\n",
        "    logging\n",
        ")\n",
        "\n",
        "from peft import LoraConfig, PeftModel\n",
        "from trl import SFTTrainer"
      ]
    },
    {
      "cell_type": "code",
      "execution_count": null,
      "metadata": {
        "id": "wZ6Rszk9hNmE"
      },
      "outputs": [],
      "source": [
        "model_name = \"NousResearch/Llama-2-7b-chat-hf\"\n",
        "\n",
        "dataset_name = \"mlabonne/guanaco-llama2-1k\"\n",
        "\n",
        "# Fine tuned model name\n",
        "new_model = \"llama-2-7b-chat-finetune\""
      ]
    },
    {
      "cell_type": "code",
      "execution_count": null,
      "metadata": {
        "id": "lNjMYVKnhNpS"
      },
      "outputs": [],
      "source": [
        "#LoRA Parameters\n",
        "lora_r = 64\n",
        "lora_alpha = 16\n",
        "lora_dropout = 0.1\n",
        "\n",
        "# BitandBytes Parameters\n",
        "use_4bit = True\n",
        "bnb_4bit_compute_dtype = \"float16\"\n",
        "bnb_4bit_quant_type = \"nf4\"\n",
        "use_nested_quant = False\n",
        "\n",
        "# Training Arguments\n",
        "output_dir = \"./results\"\n",
        "num_train_epochs = 1\n",
        "\n",
        "fp16=False\n",
        "bf16=False\n",
        "\n",
        "per_device_train_batch_size = 4\n",
        "per_device_eval_batch_size = 4\n",
        "gradient_accumulation_steps = 1\n",
        "gradient_checkpointing = True\n",
        "max_grad_norm = 0.3\n",
        "learning_rate = 2e-4\n",
        "weight_decay = 0.001\n",
        "optim = \"paged_adamw_32bit\"\n",
        "lr_scheduler_type = \"cosine\"\n",
        "max_steps = -1\n",
        "warmup_ratio = 0.03\n",
        "\n",
        "group_by_length = True\n",
        "save_steps = 0\n",
        "logging_steps = 25\n",
        "\n",
        "\n",
        "# SFT Parameters\n",
        "max_seq_length = None\n",
        "packing = False\n",
        "device_map = {\"\": 0}"
      ]
    },
    {
      "cell_type": "code",
      "execution_count": null,
      "metadata": {
        "id": "gLfqHGhqhNrd"
      },
      "outputs": [],
      "source": [
        "# # Loading the dataset\n",
        "# dataset = load_dataset(dataset_name, split=\"train\")\n",
        "\n",
        "# # Loading the tokenizer with QLoRA configuration\n",
        "# compute_dtype = getattr(torch, bnb_4bit_compute_dtype)\n",
        "\n",
        "# bnb_config = BitsAndBytesConfig(\n",
        "#     load_in_4bit=use_4bit,\n",
        "#     bnb_4bit_quant_type=bnb_4bit_quant_type,\n",
        "#     bnb_4bit_compute_dtype=compute_dtype,\n",
        "#     bnb_4bit_use_double_quant=use_nested_quant,\n",
        "# )\n",
        "\n",
        "# if compute_dtype == torch.float16 and use_4bit:\n",
        "#     major, _ = torch.cuda.get_device_capability()\n",
        "#     if major >= 8:\n",
        "#         print(\"=\" * 80)\n",
        "#         print(\"Your GPU supports bfloat16: accelerate training with bf16=True\")\n",
        "#         print(\"=\" * 80)\n",
        "\n",
        "\n",
        "# model = AutoModelForCausalLM.from_pretrained(\n",
        "#     model_name,\n",
        "#     quantization_config=bnb_config,\n",
        "#     device_map=device_map\n",
        "# )\n",
        "\n",
        "# model.config.use_cache = False\n",
        "# model.config.pretraining_tp = 1\n",
        "\n",
        "# # Load LLaMA Tokenizer\n",
        "# tokenizer = AutoTokenizer.from_pretrained(model_name, trust_remote_code = True)\n",
        "# tokenizer.pad_token = tokenizer.eos_token\n",
        "# tokenizer.padding_side = \"right\"\n",
        "\n",
        "# # Load LoRA configuration\n",
        "# peft_config = LoraConfig(\n",
        "#     lora_alpha=lora_alpha,\n",
        "#     lora_dropout=lora_dropout,\n",
        "#     r=lora_r,\n",
        "#     bias=\"none\",\n",
        "#     task_type=\"CAUSAL_LM\"\n",
        "# )\n",
        "\n",
        "# # Set training arguments\n",
        "# training_arguments = TrainingArguments(\n",
        "#     output_dir=output_dir,\n",
        "#     num_train_epochs=num_train_epochs,\n",
        "#     per_device_train_batch_size=per_device_train_batch_size,\n",
        "#     gradient_accumulation_steps=gradient_accumulation_steps,\n",
        "#     optim=optim,\n",
        "#     save_steps=save_steps,\n",
        "#     logging_steps=logging_steps,\n",
        "#     learning_rate=learning_rate,\n",
        "#     weight_decay=weight_decay,\n",
        "#     fp16=fp16,\n",
        "#     bf16=bf16,\n",
        "#     max_grad_norm=max_grad_norm,\n",
        "#     max_steps=max_steps,\n",
        "#     warmup_ratio=warmup_ratio,\n",
        "#     group_by_length=group_by_length,\n",
        "#     lr_scheduler_type=lr_scheduler_type,\n",
        "#     report_to=\"tensorboard\"\n",
        "# )\n",
        "\n",
        "# # Set supervised fine tuning parameters\n",
        "# trainer = SFTTrainer(\n",
        "#     model=model,\n",
        "#     train_dataset=dataset,\n",
        "#     peft_config=peft_config,\n",
        "#     dataset_text_field=\"text\",\n",
        "#     max_seq_length=max_seq_length,\n",
        "#     tokenizer=tokenizer,\n",
        "#     args=training_arguments,\n",
        "#     packing=packing,\n",
        "# )\n",
        "\n",
        "# # Train model\n",
        "# trainer.train()"
      ]
    },
    {
      "cell_type": "code",
      "execution_count": null,
      "metadata": {
        "id": "OJfUUWduvVJH"
      },
      "outputs": [],
      "source": [
        "# Loading the dataset\n",
        "dataset = load_dataset(dataset_name, split=\"train\")\n",
        "\n",
        "# If your dataset doesn't already have a single 'text' column, STOP here and create one.\n",
        "# Example (remove if your dataset already has 'text'):\n",
        "# dataset = dataset.map(lambda r: {\"text\": r[\"text\"]}, remove_columns=[c for c in dataset.column_names if c != \"text\"])\n",
        "\n",
        "# Loading the tokenizer with QLoRA configuration\n",
        "compute_dtype = getattr(torch, bnb_4bit_compute_dtype)\n",
        "\n",
        "bnb_config = BitsAndBytesConfig(\n",
        "    load_in_4bit=use_4bit,\n",
        "    bnb_4bit_quant_type=bnb_4bit_quant_type,\n",
        "    bnb_4bit_compute_dtype=compute_dtype,\n",
        "    bnb_4bit_use_double_quant=use_nested_quant,\n",
        ")\n",
        "\n",
        "if compute_dtype == torch.float16 and use_4bit:\n",
        "    major, _ = torch.cuda.get_device_capability()\n",
        "    if major >= 8:\n",
        "        print(\"=\" * 80)\n",
        "        print(\"Your GPU supports bfloat16: accelerate training with bf16=True\")\n",
        "        print(\"=\" * 80)\n",
        "\n",
        "model = AutoModelForCausalLM.from_pretrained(\n",
        "    model_name,\n",
        "    quantization_config=bnb_config,\n",
        "    device_map=\"auto\",                      # <<< ensure auto placement on Colab CUDA\n",
        "    torch_dtype=torch.bfloat16 if bf16 else (torch.float16 if fp16 else None)  # <<< explicit dtype\n",
        ")\n",
        "\n",
        "model.config.use_cache = False\n",
        "# model.config.pretraining_tp = 1          # <<< not needed for single-GPU; you can remove this\n",
        "\n",
        "# Load LLaMA Tokenizer\n",
        "tokenizer = AutoTokenizer.from_pretrained(model_name, use_fast=True)  # <<< use_fast=True; trust_remote_code not needed\n",
        "if tokenizer.pad_token_id is None:                                     # <<< robust pad handling\n",
        "    tokenizer.pad_token = tokenizer.eos_token\n",
        "tokenizer.padding_side = \"right\"\n",
        "\n",
        "# Load LoRA configuration\n",
        "peft_config = LoraConfig(\n",
        "    lora_alpha=lora_alpha,\n",
        "    lora_dropout=lora_dropout,\n",
        "    r=lora_r,\n",
        "    bias=\"none\",\n",
        "    task_type=\"CAUSAL_LM\",\n",
        "    target_modules=[\"q_proj\",\"k_proj\",\"v_proj\",\"o_proj\"],   # <<< important for LLaMA-family\n",
        ")\n",
        "\n",
        "# Set training arguments\n",
        "training_arguments = TrainingArguments(\n",
        "    output_dir=output_dir,\n",
        "    num_train_epochs=num_train_epochs,\n",
        "    per_device_train_batch_size=per_device_train_batch_size,\n",
        "    gradient_accumulation_steps=gradient_accumulation_steps,\n",
        "    optim=optim,\n",
        "    save_steps=save_steps,\n",
        "    logging_steps=logging_steps,\n",
        "    learning_rate=learning_rate,\n",
        "    weight_decay=weight_decay,\n",
        "    fp16=fp16,\n",
        "    bf16=bf16,\n",
        "    max_grad_norm=max_grad_norm,\n",
        "    max_steps=max_steps,\n",
        "    warmup_ratio=warmup_ratio,\n",
        "    group_by_length=group_by_length,\n",
        "    lr_scheduler_type=lr_scheduler_type,\n",
        "    report_to=\"tensorboard\"\n",
        ")\n",
        "\n",
        "# Set supervised fine tuning parameters\n",
        "trainer = SFTTrainer(\n",
        "    model=model,\n",
        "    train_dataset=dataset,\n",
        "    peft_config=peft_config,            # <<< keep this ONLY if 'model' is NOT already PEFT-wrapped\n",
        "    dataset_text_field=\"text\",\n",
        "    max_seq_length=max_seq_length,\n",
        "    tokenizer=tokenizer,\n",
        "    args=training_arguments,\n",
        "    packing=False,                      # <<< start False; enable later after verifying sample lengths\n",
        ")\n",
        "\n",
        "# Train model\n",
        "trainer.train()\n"
      ]
    },
    {
      "cell_type": "code",
      "execution_count": null,
      "metadata": {
        "id": "lAd0oDiwhNuQ"
      },
      "outputs": [],
      "source": [
        "trainer.model.save_pretrained(new_model)"
      ]
    },
    {
      "cell_type": "code",
      "execution_count": null,
      "metadata": {
        "id": "NKYeyA5mhNwj"
      },
      "outputs": [],
      "source": [
        "# Run text generation with new model\n",
        "prompt = \"What is a large language model?\"\n",
        "pipe = pipeline(task=\"text-generation\", model=model, tokenizer=tokenizer, max_length=200)\n",
        "result = pipe(f\"<s>[INST] {prompt} [/INST]\")\n",
        "print(result[0]['generated_text'])"
      ]
    },
    {
      "cell_type": "code",
      "execution_count": null,
      "metadata": {
        "id": "sJam56JLhOX7"
      },
      "outputs": [],
      "source": []
    },
    {
      "cell_type": "code",
      "execution_count": null,
      "metadata": {
        "id": "Vb2yRNrdhOap"
      },
      "outputs": [],
      "source": []
    }
  ],
  "metadata": {
    "accelerator": "GPU",
    "colab": {
      "gpuType": "T4",
      "provenance": []
    },
    "kernelspec": {
      "display_name": "llama2testing",
      "language": "python",
      "name": "python3"
    },
    "language_info": {
      "codemirror_mode": {
        "name": "ipython",
        "version": 3
      },
      "file_extension": ".py",
      "mimetype": "text/x-python",
      "name": "python",
      "nbconvert_exporter": "python",
      "pygments_lexer": "ipython3",
      "version": "3.10.18"
    }
  },
  "nbformat": 4,
  "nbformat_minor": 0
}
