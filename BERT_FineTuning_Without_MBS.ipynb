{
 "cells": [
  {
   "cell_type": "code",
   "execution_count": null,
   "id": "caab323a",
   "metadata": {},
   "outputs": [
    {
     "name": "stdout",
     "output_type": "stream",
     "text": [
      "Requirement already satisfied: datasets in ./finetuning/lib/python3.10/site-packages (4.1.1)\n",
      "Requirement already satisfied: filelock in ./finetuning/lib/python3.10/site-packages (from datasets) (3.19.1)\n",
      "Requirement already satisfied: numpy>=1.17 in ./finetuning/lib/python3.10/site-packages (from datasets) (2.2.6)\n",
      "Requirement already satisfied: pyarrow>=21.0.0 in ./finetuning/lib/python3.10/site-packages (from datasets) (21.0.0)\n",
      "Requirement already satisfied: dill<0.4.1,>=0.3.0 in ./finetuning/lib/python3.10/site-packages (from datasets) (0.4.0)\n",
      "Requirement already satisfied: pandas in ./finetuning/lib/python3.10/site-packages (from datasets) (2.3.2)\n",
      "Requirement already satisfied: requests>=2.32.2 in ./finetuning/lib/python3.10/site-packages (from datasets) (2.32.5)\n",
      "Requirement already satisfied: tqdm>=4.66.3 in ./finetuning/lib/python3.10/site-packages (from datasets) (4.67.1)\n",
      "Requirement already satisfied: xxhash in ./finetuning/lib/python3.10/site-packages (from datasets) (3.5.0)\n",
      "Requirement already satisfied: multiprocess<0.70.17 in ./finetuning/lib/python3.10/site-packages (from datasets) (0.70.16)\n",
      "Requirement already satisfied: fsspec<=2025.9.0,>=2023.1.0 in ./finetuning/lib/python3.10/site-packages (from fsspec[http]<=2025.9.0,>=2023.1.0->datasets) (2025.9.0)\n",
      "Requirement already satisfied: huggingface-hub>=0.24.0 in ./finetuning/lib/python3.10/site-packages (from datasets) (0.35.0)\n",
      "Requirement already satisfied: packaging in ./finetuning/lib/python3.10/site-packages (from datasets) (25.0)\n",
      "Requirement already satisfied: pyyaml>=5.1 in ./finetuning/lib/python3.10/site-packages (from datasets) (6.0.2)\n",
      "Requirement already satisfied: aiohttp!=4.0.0a0,!=4.0.0a1 in ./finetuning/lib/python3.10/site-packages (from fsspec[http]<=2025.9.0,>=2023.1.0->datasets) (3.12.15)\n",
      "Requirement already satisfied: aiohappyeyeballs>=2.5.0 in ./finetuning/lib/python3.10/site-packages (from aiohttp!=4.0.0a0,!=4.0.0a1->fsspec[http]<=2025.9.0,>=2023.1.0->datasets) (2.6.1)\n",
      "Requirement already satisfied: aiosignal>=1.4.0 in ./finetuning/lib/python3.10/site-packages (from aiohttp!=4.0.0a0,!=4.0.0a1->fsspec[http]<=2025.9.0,>=2023.1.0->datasets) (1.4.0)\n",
      "Requirement already satisfied: async-timeout<6.0,>=4.0 in ./finetuning/lib/python3.10/site-packages (from aiohttp!=4.0.0a0,!=4.0.0a1->fsspec[http]<=2025.9.0,>=2023.1.0->datasets) (5.0.1)\n",
      "Requirement already satisfied: attrs>=17.3.0 in ./finetuning/lib/python3.10/site-packages (from aiohttp!=4.0.0a0,!=4.0.0a1->fsspec[http]<=2025.9.0,>=2023.1.0->datasets) (25.3.0)\n",
      "Requirement already satisfied: frozenlist>=1.1.1 in ./finetuning/lib/python3.10/site-packages (from aiohttp!=4.0.0a0,!=4.0.0a1->fsspec[http]<=2025.9.0,>=2023.1.0->datasets) (1.7.0)\n",
      "Requirement already satisfied: multidict<7.0,>=4.5 in ./finetuning/lib/python3.10/site-packages (from aiohttp!=4.0.0a0,!=4.0.0a1->fsspec[http]<=2025.9.0,>=2023.1.0->datasets) (6.6.4)\n",
      "Requirement already satisfied: propcache>=0.2.0 in ./finetuning/lib/python3.10/site-packages (from aiohttp!=4.0.0a0,!=4.0.0a1->fsspec[http]<=2025.9.0,>=2023.1.0->datasets) (0.3.2)\n",
      "Requirement already satisfied: yarl<2.0,>=1.17.0 in ./finetuning/lib/python3.10/site-packages (from aiohttp!=4.0.0a0,!=4.0.0a1->fsspec[http]<=2025.9.0,>=2023.1.0->datasets) (1.20.1)\n",
      "Requirement already satisfied: typing-extensions>=4.1.0 in ./finetuning/lib/python3.10/site-packages (from multidict<7.0,>=4.5->aiohttp!=4.0.0a0,!=4.0.0a1->fsspec[http]<=2025.9.0,>=2023.1.0->datasets) (4.15.0)\n",
      "Requirement already satisfied: idna>=2.0 in ./finetuning/lib/python3.10/site-packages (from yarl<2.0,>=1.17.0->aiohttp!=4.0.0a0,!=4.0.0a1->fsspec[http]<=2025.9.0,>=2023.1.0->datasets) (3.10)\n",
      "Requirement already satisfied: hf-xet<2.0.0,>=1.1.3 in ./finetuning/lib/python3.10/site-packages (from huggingface-hub>=0.24.0->datasets) (1.1.10)\n",
      "Requirement already satisfied: charset_normalizer<4,>=2 in ./finetuning/lib/python3.10/site-packages (from requests>=2.32.2->datasets) (3.4.3)\n",
      "Requirement already satisfied: urllib3<3,>=1.21.1 in ./finetuning/lib/python3.10/site-packages (from requests>=2.32.2->datasets) (2.5.0)\n",
      "Requirement already satisfied: certifi>=2017.4.17 in ./finetuning/lib/python3.10/site-packages (from requests>=2.32.2->datasets) (2025.8.3)\n",
      "Requirement already satisfied: python-dateutil>=2.8.2 in ./finetuning/lib/python3.10/site-packages (from pandas->datasets) (2.9.0.post0)\n",
      "Requirement already satisfied: pytz>=2020.1 in ./finetuning/lib/python3.10/site-packages (from pandas->datasets) (2025.2)\n",
      "Requirement already satisfied: tzdata>=2022.7 in ./finetuning/lib/python3.10/site-packages (from pandas->datasets) (2025.2)\n",
      "Requirement already satisfied: six>=1.5 in ./finetuning/lib/python3.10/site-packages (from python-dateutil>=2.8.2->pandas->datasets) (1.17.0)\n"
     ]
    }
   ],
   "source": [
    "# !pip install -U datasets"
   ]
  },
  {
   "cell_type": "code",
   "execution_count": 2,
   "id": "cd22e81c",
   "metadata": {},
   "outputs": [
    {
     "name": "stderr",
     "output_type": "stream",
     "text": [
      "/Users/atharvabot7/Downloads/MLOPS-Tutorials/Fine-Tuning-Practice/finetuning/lib/python3.10/site-packages/tqdm/auto.py:21: TqdmWarning: IProgress not found. Please update jupyter and ipywidgets. See https://ipywidgets.readthedocs.io/en/stable/user_install.html\n",
      "  from .autonotebook import tqdm as notebook_tqdm\n"
     ]
    }
   ],
   "source": [
    "from transformers import BertTokenizer\n",
    "from datasets import load_dataset\n",
    "from sklearn.model_selection import train_test_split\n",
    "from torch.utils.data import DataLoader\n",
    "import torch\n",
    "import torch.nn as nn \n",
    "from transformers import TrainingArguments, Trainer, BertForSequenceClassification\n",
    "from transformers import BertModel"
   ]
  },
  {
   "cell_type": "code",
   "execution_count": 3,
   "id": "7a811b13",
   "metadata": {},
   "outputs": [],
   "source": [
    "from datasets import ClassLabel\n",
    "dataset = load_dataset(\"emotion\", split = \"train\")"
   ]
  },
  {
   "cell_type": "code",
   "execution_count": 4,
   "id": "91a3b138",
   "metadata": {},
   "outputs": [
    {
     "name": "stdout",
     "output_type": "stream",
     "text": [
      "['sadness', 'joy', 'anger']\n"
     ]
    }
   ],
   "source": [
    "dataset = dataset.filter(lambda x: x['label'] in [0,1,3])\n",
    "\n",
    "label_map = {0:0, 1:1, 3:2}\n",
    "dataset = dataset.map(lambda x: {\"label\": label_map[x[\"label\"]]})\n",
    "\n",
    "new_label_feature = ClassLabel(num_classes = 3, names = [\"sadness\", \"joy\", \"anger\"])\n",
    "dataset = dataset.cast_column(\"label\", new_label_feature)\n",
    "\n",
    "print(dataset.features[\"label\"].names)"
   ]
  },
  {
   "cell_type": "code",
   "execution_count": 5,
   "id": "c11b6ba1",
   "metadata": {},
   "outputs": [],
   "source": [
    "dataset = dataset.train_test_split(test_size=0.2)"
   ]
  },
  {
   "cell_type": "code",
   "execution_count": 6,
   "id": "a033d48d",
   "metadata": {},
   "outputs": [
    {
     "data": {
      "text/plain": [
       "DatasetDict({\n",
       "    train: Dataset({\n",
       "        features: ['text', 'label'],\n",
       "        num_rows: 9749\n",
       "    })\n",
       "    test: Dataset({\n",
       "        features: ['text', 'label'],\n",
       "        num_rows: 2438\n",
       "    })\n",
       "})"
      ]
     },
     "execution_count": 6,
     "metadata": {},
     "output_type": "execute_result"
    }
   ],
   "source": [
    "dataset"
   ]
  },
  {
   "cell_type": "code",
   "execution_count": 7,
   "id": "265d27d8",
   "metadata": {},
   "outputs": [],
   "source": [
    "train_texts = dataset['train']['text']"
   ]
  },
  {
   "cell_type": "code",
   "execution_count": 8,
   "id": "71d8697d",
   "metadata": {},
   "outputs": [
    {
     "name": "stdout",
     "output_type": "stream",
     "text": [
      "Column(['i feel those artistic yearnings in my music and i know that if i was to provide for a family and couldnt do so with the gift god has given me it would be very very hard', 'i feel so all alone no ones gonna fix me when im broke how do you cry with inanimate eyes', 'i feel so shitty right now i just arugh', 'i cant help but feel like im doing something dirty', 'i just feel so heartbroken out of loneliness'])\n"
     ]
    }
   ],
   "source": [
    "print(train_texts)"
   ]
  },
  {
   "cell_type": "code",
   "execution_count": 9,
   "id": "c8af3f40",
   "metadata": {},
   "outputs": [
    {
     "name": "stdout",
     "output_type": "stream",
     "text": [
      "9749\n"
     ]
    }
   ],
   "source": [
    "print(len(train_texts))"
   ]
  },
  {
   "cell_type": "code",
   "execution_count": 10,
   "id": "87fd47dd",
   "metadata": {},
   "outputs": [],
   "source": [
    "train_labels = dataset['train']['label']"
   ]
  },
  {
   "cell_type": "code",
   "execution_count": 11,
   "id": "8503258f",
   "metadata": {},
   "outputs": [
    {
     "data": {
      "text/plain": [
       "Column([1, 0, 0, 0, 0])"
      ]
     },
     "execution_count": 11,
     "metadata": {},
     "output_type": "execute_result"
    }
   ],
   "source": [
    "train_labels"
   ]
  },
  {
   "cell_type": "code",
   "execution_count": 12,
   "id": "19c991eb",
   "metadata": {},
   "outputs": [
    {
     "name": "stdout",
     "output_type": "stream",
     "text": [
      "9749\n"
     ]
    }
   ],
   "source": [
    "print(len(train_labels))"
   ]
  },
  {
   "cell_type": "code",
   "execution_count": 13,
   "id": "7c576dd2",
   "metadata": {},
   "outputs": [],
   "source": [
    "val_texts = dataset['test']['text']\n",
    "val_labels = dataset['test']['label']"
   ]
  },
  {
   "cell_type": "code",
   "execution_count": 14,
   "id": "87c9f90e",
   "metadata": {},
   "outputs": [
    {
     "name": "stdout",
     "output_type": "stream",
     "text": [
      "2438\n",
      "2438\n"
     ]
    }
   ],
   "source": [
    "print(len(val_texts))\n",
    "print(len(val_labels))"
   ]
  },
  {
   "cell_type": "code",
   "execution_count": 15,
   "id": "78b0b6c6",
   "metadata": {},
   "outputs": [],
   "source": [
    "tokenizer = BertTokenizer.from_pretrained('bert-base-uncased')"
   ]
  },
  {
   "cell_type": "code",
   "execution_count": 16,
   "id": "4be8dafa",
   "metadata": {},
   "outputs": [],
   "source": [
    "def tokenize(batch):\n",
    "    return tokenizer(batch['text'], padding = True, truncation = True, return_tensors = 'pt')"
   ]
  },
  {
   "cell_type": "code",
   "execution_count": 17,
   "id": "bb19359d",
   "metadata": {},
   "outputs": [
    {
     "name": "stderr",
     "output_type": "stream",
     "text": [
      "Map: 100%|██████████| 9749/9749 [00:02<00:00, 4411.85 examples/s]\n",
      "Map: 100%|██████████| 2438/2438 [00:00<00:00, 4534.78 examples/s]\n"
     ]
    }
   ],
   "source": [
    "dataset = dataset.map(lambda x: tokenizer(x['text'], padding = \"max_length\", truncation = True), batched = True)"
   ]
  },
  {
   "cell_type": "code",
   "execution_count": 18,
   "id": "8c453ae1",
   "metadata": {},
   "outputs": [],
   "source": [
    "dataset.set_format(type = 'torch', columns = ['input_ids', 'attention_mask', 'label'])"
   ]
  },
  {
   "cell_type": "code",
   "execution_count": 19,
   "id": "8f2bf0e4",
   "metadata": {},
   "outputs": [
    {
     "name": "stderr",
     "output_type": "stream",
     "text": [
      "Some weights of BertForSequenceClassification were not initialized from the model checkpoint at bert-base-uncased and are newly initialized: ['classifier.bias', 'classifier.weight']\n",
      "You should probably TRAIN this model on a down-stream task to be able to use it for predictions and inference.\n"
     ]
    }
   ],
   "source": [
    "model = BertForSequenceClassification.from_pretrained(\"bert-base-uncased\")"
   ]
  },
  {
   "cell_type": "code",
   "execution_count": 20,
   "id": "b86b3d6a",
   "metadata": {},
   "outputs": [
    {
     "name": "stdout",
     "output_type": "stream",
     "text": [
      "bert.embeddings.word_embeddings.weight             | Shape: (30522, 768) | Trainable: True\n",
      "bert.embeddings.position_embeddings.weight         | Shape: (512, 768) | Trainable: True\n",
      "bert.embeddings.token_type_embeddings.weight       | Shape: (2, 768) | Trainable: True\n",
      "bert.embeddings.LayerNorm.weight                   | Shape: (768,) | Trainable: True\n",
      "bert.embeddings.LayerNorm.bias                     | Shape: (768,) | Trainable: True\n",
      "bert.encoder.layer.0.attention.self.query.weight   | Shape: (768, 768) | Trainable: True\n",
      "bert.encoder.layer.0.attention.self.query.bias     | Shape: (768,) | Trainable: True\n",
      "bert.encoder.layer.0.attention.self.key.weight     | Shape: (768, 768) | Trainable: True\n",
      "bert.encoder.layer.0.attention.self.key.bias       | Shape: (768,) | Trainable: True\n",
      "bert.encoder.layer.0.attention.self.value.weight   | Shape: (768, 768) | Trainable: True\n",
      "bert.encoder.layer.0.attention.self.value.bias     | Shape: (768,) | Trainable: True\n",
      "bert.encoder.layer.0.attention.output.dense.weight | Shape: (768, 768) | Trainable: True\n",
      "bert.encoder.layer.0.attention.output.dense.bias   | Shape: (768,) | Trainable: True\n",
      "bert.encoder.layer.0.attention.output.LayerNorm.weight | Shape: (768,) | Trainable: True\n",
      "bert.encoder.layer.0.attention.output.LayerNorm.bias | Shape: (768,) | Trainable: True\n",
      "bert.encoder.layer.0.intermediate.dense.weight     | Shape: (3072, 768) | Trainable: True\n",
      "bert.encoder.layer.0.intermediate.dense.bias       | Shape: (3072,) | Trainable: True\n",
      "bert.encoder.layer.0.output.dense.weight           | Shape: (768, 3072) | Trainable: True\n",
      "bert.encoder.layer.0.output.dense.bias             | Shape: (768,) | Trainable: True\n",
      "bert.encoder.layer.0.output.LayerNorm.weight       | Shape: (768,) | Trainable: True\n",
      "bert.encoder.layer.0.output.LayerNorm.bias         | Shape: (768,) | Trainable: True\n",
      "bert.encoder.layer.1.attention.self.query.weight   | Shape: (768, 768) | Trainable: True\n",
      "bert.encoder.layer.1.attention.self.query.bias     | Shape: (768,) | Trainable: True\n",
      "bert.encoder.layer.1.attention.self.key.weight     | Shape: (768, 768) | Trainable: True\n",
      "bert.encoder.layer.1.attention.self.key.bias       | Shape: (768,) | Trainable: True\n",
      "bert.encoder.layer.1.attention.self.value.weight   | Shape: (768, 768) | Trainable: True\n",
      "bert.encoder.layer.1.attention.self.value.bias     | Shape: (768,) | Trainable: True\n",
      "bert.encoder.layer.1.attention.output.dense.weight | Shape: (768, 768) | Trainable: True\n",
      "bert.encoder.layer.1.attention.output.dense.bias   | Shape: (768,) | Trainable: True\n",
      "bert.encoder.layer.1.attention.output.LayerNorm.weight | Shape: (768,) | Trainable: True\n",
      "bert.encoder.layer.1.attention.output.LayerNorm.bias | Shape: (768,) | Trainable: True\n",
      "bert.encoder.layer.1.intermediate.dense.weight     | Shape: (3072, 768) | Trainable: True\n",
      "bert.encoder.layer.1.intermediate.dense.bias       | Shape: (3072,) | Trainable: True\n",
      "bert.encoder.layer.1.output.dense.weight           | Shape: (768, 3072) | Trainable: True\n",
      "bert.encoder.layer.1.output.dense.bias             | Shape: (768,) | Trainable: True\n",
      "bert.encoder.layer.1.output.LayerNorm.weight       | Shape: (768,) | Trainable: True\n",
      "bert.encoder.layer.1.output.LayerNorm.bias         | Shape: (768,) | Trainable: True\n",
      "bert.encoder.layer.2.attention.self.query.weight   | Shape: (768, 768) | Trainable: True\n",
      "bert.encoder.layer.2.attention.self.query.bias     | Shape: (768,) | Trainable: True\n",
      "bert.encoder.layer.2.attention.self.key.weight     | Shape: (768, 768) | Trainable: True\n",
      "bert.encoder.layer.2.attention.self.key.bias       | Shape: (768,) | Trainable: True\n",
      "bert.encoder.layer.2.attention.self.value.weight   | Shape: (768, 768) | Trainable: True\n",
      "bert.encoder.layer.2.attention.self.value.bias     | Shape: (768,) | Trainable: True\n",
      "bert.encoder.layer.2.attention.output.dense.weight | Shape: (768, 768) | Trainable: True\n",
      "bert.encoder.layer.2.attention.output.dense.bias   | Shape: (768,) | Trainable: True\n",
      "bert.encoder.layer.2.attention.output.LayerNorm.weight | Shape: (768,) | Trainable: True\n",
      "bert.encoder.layer.2.attention.output.LayerNorm.bias | Shape: (768,) | Trainable: True\n",
      "bert.encoder.layer.2.intermediate.dense.weight     | Shape: (3072, 768) | Trainable: True\n",
      "bert.encoder.layer.2.intermediate.dense.bias       | Shape: (3072,) | Trainable: True\n",
      "bert.encoder.layer.2.output.dense.weight           | Shape: (768, 3072) | Trainable: True\n",
      "bert.encoder.layer.2.output.dense.bias             | Shape: (768,) | Trainable: True\n",
      "bert.encoder.layer.2.output.LayerNorm.weight       | Shape: (768,) | Trainable: True\n",
      "bert.encoder.layer.2.output.LayerNorm.bias         | Shape: (768,) | Trainable: True\n",
      "bert.encoder.layer.3.attention.self.query.weight   | Shape: (768, 768) | Trainable: True\n",
      "bert.encoder.layer.3.attention.self.query.bias     | Shape: (768,) | Trainable: True\n",
      "bert.encoder.layer.3.attention.self.key.weight     | Shape: (768, 768) | Trainable: True\n",
      "bert.encoder.layer.3.attention.self.key.bias       | Shape: (768,) | Trainable: True\n",
      "bert.encoder.layer.3.attention.self.value.weight   | Shape: (768, 768) | Trainable: True\n",
      "bert.encoder.layer.3.attention.self.value.bias     | Shape: (768,) | Trainable: True\n",
      "bert.encoder.layer.3.attention.output.dense.weight | Shape: (768, 768) | Trainable: True\n",
      "bert.encoder.layer.3.attention.output.dense.bias   | Shape: (768,) | Trainable: True\n",
      "bert.encoder.layer.3.attention.output.LayerNorm.weight | Shape: (768,) | Trainable: True\n",
      "bert.encoder.layer.3.attention.output.LayerNorm.bias | Shape: (768,) | Trainable: True\n",
      "bert.encoder.layer.3.intermediate.dense.weight     | Shape: (3072, 768) | Trainable: True\n",
      "bert.encoder.layer.3.intermediate.dense.bias       | Shape: (3072,) | Trainable: True\n",
      "bert.encoder.layer.3.output.dense.weight           | Shape: (768, 3072) | Trainable: True\n",
      "bert.encoder.layer.3.output.dense.bias             | Shape: (768,) | Trainable: True\n",
      "bert.encoder.layer.3.output.LayerNorm.weight       | Shape: (768,) | Trainable: True\n",
      "bert.encoder.layer.3.output.LayerNorm.bias         | Shape: (768,) | Trainable: True\n",
      "bert.encoder.layer.4.attention.self.query.weight   | Shape: (768, 768) | Trainable: True\n",
      "bert.encoder.layer.4.attention.self.query.bias     | Shape: (768,) | Trainable: True\n",
      "bert.encoder.layer.4.attention.self.key.weight     | Shape: (768, 768) | Trainable: True\n",
      "bert.encoder.layer.4.attention.self.key.bias       | Shape: (768,) | Trainable: True\n",
      "bert.encoder.layer.4.attention.self.value.weight   | Shape: (768, 768) | Trainable: True\n",
      "bert.encoder.layer.4.attention.self.value.bias     | Shape: (768,) | Trainable: True\n",
      "bert.encoder.layer.4.attention.output.dense.weight | Shape: (768, 768) | Trainable: True\n",
      "bert.encoder.layer.4.attention.output.dense.bias   | Shape: (768,) | Trainable: True\n",
      "bert.encoder.layer.4.attention.output.LayerNorm.weight | Shape: (768,) | Trainable: True\n",
      "bert.encoder.layer.4.attention.output.LayerNorm.bias | Shape: (768,) | Trainable: True\n",
      "bert.encoder.layer.4.intermediate.dense.weight     | Shape: (3072, 768) | Trainable: True\n",
      "bert.encoder.layer.4.intermediate.dense.bias       | Shape: (3072,) | Trainable: True\n",
      "bert.encoder.layer.4.output.dense.weight           | Shape: (768, 3072) | Trainable: True\n",
      "bert.encoder.layer.4.output.dense.bias             | Shape: (768,) | Trainable: True\n",
      "bert.encoder.layer.4.output.LayerNorm.weight       | Shape: (768,) | Trainable: True\n",
      "bert.encoder.layer.4.output.LayerNorm.bias         | Shape: (768,) | Trainable: True\n",
      "bert.encoder.layer.5.attention.self.query.weight   | Shape: (768, 768) | Trainable: True\n",
      "bert.encoder.layer.5.attention.self.query.bias     | Shape: (768,) | Trainable: True\n",
      "bert.encoder.layer.5.attention.self.key.weight     | Shape: (768, 768) | Trainable: True\n",
      "bert.encoder.layer.5.attention.self.key.bias       | Shape: (768,) | Trainable: True\n",
      "bert.encoder.layer.5.attention.self.value.weight   | Shape: (768, 768) | Trainable: True\n",
      "bert.encoder.layer.5.attention.self.value.bias     | Shape: (768,) | Trainable: True\n",
      "bert.encoder.layer.5.attention.output.dense.weight | Shape: (768, 768) | Trainable: True\n",
      "bert.encoder.layer.5.attention.output.dense.bias   | Shape: (768,) | Trainable: True\n",
      "bert.encoder.layer.5.attention.output.LayerNorm.weight | Shape: (768,) | Trainable: True\n",
      "bert.encoder.layer.5.attention.output.LayerNorm.bias | Shape: (768,) | Trainable: True\n",
      "bert.encoder.layer.5.intermediate.dense.weight     | Shape: (3072, 768) | Trainable: True\n",
      "bert.encoder.layer.5.intermediate.dense.bias       | Shape: (3072,) | Trainable: True\n",
      "bert.encoder.layer.5.output.dense.weight           | Shape: (768, 3072) | Trainable: True\n",
      "bert.encoder.layer.5.output.dense.bias             | Shape: (768,) | Trainable: True\n",
      "bert.encoder.layer.5.output.LayerNorm.weight       | Shape: (768,) | Trainable: True\n",
      "bert.encoder.layer.5.output.LayerNorm.bias         | Shape: (768,) | Trainable: True\n",
      "bert.encoder.layer.6.attention.self.query.weight   | Shape: (768, 768) | Trainable: True\n",
      "bert.encoder.layer.6.attention.self.query.bias     | Shape: (768,) | Trainable: True\n",
      "bert.encoder.layer.6.attention.self.key.weight     | Shape: (768, 768) | Trainable: True\n",
      "bert.encoder.layer.6.attention.self.key.bias       | Shape: (768,) | Trainable: True\n",
      "bert.encoder.layer.6.attention.self.value.weight   | Shape: (768, 768) | Trainable: True\n",
      "bert.encoder.layer.6.attention.self.value.bias     | Shape: (768,) | Trainable: True\n",
      "bert.encoder.layer.6.attention.output.dense.weight | Shape: (768, 768) | Trainable: True\n",
      "bert.encoder.layer.6.attention.output.dense.bias   | Shape: (768,) | Trainable: True\n",
      "bert.encoder.layer.6.attention.output.LayerNorm.weight | Shape: (768,) | Trainable: True\n",
      "bert.encoder.layer.6.attention.output.LayerNorm.bias | Shape: (768,) | Trainable: True\n",
      "bert.encoder.layer.6.intermediate.dense.weight     | Shape: (3072, 768) | Trainable: True\n",
      "bert.encoder.layer.6.intermediate.dense.bias       | Shape: (3072,) | Trainable: True\n",
      "bert.encoder.layer.6.output.dense.weight           | Shape: (768, 3072) | Trainable: True\n",
      "bert.encoder.layer.6.output.dense.bias             | Shape: (768,) | Trainable: True\n",
      "bert.encoder.layer.6.output.LayerNorm.weight       | Shape: (768,) | Trainable: True\n",
      "bert.encoder.layer.6.output.LayerNorm.bias         | Shape: (768,) | Trainable: True\n",
      "bert.encoder.layer.7.attention.self.query.weight   | Shape: (768, 768) | Trainable: True\n",
      "bert.encoder.layer.7.attention.self.query.bias     | Shape: (768,) | Trainable: True\n",
      "bert.encoder.layer.7.attention.self.key.weight     | Shape: (768, 768) | Trainable: True\n",
      "bert.encoder.layer.7.attention.self.key.bias       | Shape: (768,) | Trainable: True\n",
      "bert.encoder.layer.7.attention.self.value.weight   | Shape: (768, 768) | Trainable: True\n",
      "bert.encoder.layer.7.attention.self.value.bias     | Shape: (768,) | Trainable: True\n",
      "bert.encoder.layer.7.attention.output.dense.weight | Shape: (768, 768) | Trainable: True\n",
      "bert.encoder.layer.7.attention.output.dense.bias   | Shape: (768,) | Trainable: True\n",
      "bert.encoder.layer.7.attention.output.LayerNorm.weight | Shape: (768,) | Trainable: True\n",
      "bert.encoder.layer.7.attention.output.LayerNorm.bias | Shape: (768,) | Trainable: True\n",
      "bert.encoder.layer.7.intermediate.dense.weight     | Shape: (3072, 768) | Trainable: True\n",
      "bert.encoder.layer.7.intermediate.dense.bias       | Shape: (3072,) | Trainable: True\n",
      "bert.encoder.layer.7.output.dense.weight           | Shape: (768, 3072) | Trainable: True\n",
      "bert.encoder.layer.7.output.dense.bias             | Shape: (768,) | Trainable: True\n",
      "bert.encoder.layer.7.output.LayerNorm.weight       | Shape: (768,) | Trainable: True\n",
      "bert.encoder.layer.7.output.LayerNorm.bias         | Shape: (768,) | Trainable: True\n",
      "bert.encoder.layer.8.attention.self.query.weight   | Shape: (768, 768) | Trainable: True\n",
      "bert.encoder.layer.8.attention.self.query.bias     | Shape: (768,) | Trainable: True\n",
      "bert.encoder.layer.8.attention.self.key.weight     | Shape: (768, 768) | Trainable: True\n",
      "bert.encoder.layer.8.attention.self.key.bias       | Shape: (768,) | Trainable: True\n",
      "bert.encoder.layer.8.attention.self.value.weight   | Shape: (768, 768) | Trainable: True\n",
      "bert.encoder.layer.8.attention.self.value.bias     | Shape: (768,) | Trainable: True\n",
      "bert.encoder.layer.8.attention.output.dense.weight | Shape: (768, 768) | Trainable: True\n",
      "bert.encoder.layer.8.attention.output.dense.bias   | Shape: (768,) | Trainable: True\n",
      "bert.encoder.layer.8.attention.output.LayerNorm.weight | Shape: (768,) | Trainable: True\n",
      "bert.encoder.layer.8.attention.output.LayerNorm.bias | Shape: (768,) | Trainable: True\n",
      "bert.encoder.layer.8.intermediate.dense.weight     | Shape: (3072, 768) | Trainable: True\n",
      "bert.encoder.layer.8.intermediate.dense.bias       | Shape: (3072,) | Trainable: True\n",
      "bert.encoder.layer.8.output.dense.weight           | Shape: (768, 3072) | Trainable: True\n",
      "bert.encoder.layer.8.output.dense.bias             | Shape: (768,) | Trainable: True\n",
      "bert.encoder.layer.8.output.LayerNorm.weight       | Shape: (768,) | Trainable: True\n",
      "bert.encoder.layer.8.output.LayerNorm.bias         | Shape: (768,) | Trainable: True\n",
      "bert.encoder.layer.9.attention.self.query.weight   | Shape: (768, 768) | Trainable: True\n",
      "bert.encoder.layer.9.attention.self.query.bias     | Shape: (768,) | Trainable: True\n",
      "bert.encoder.layer.9.attention.self.key.weight     | Shape: (768, 768) | Trainable: True\n",
      "bert.encoder.layer.9.attention.self.key.bias       | Shape: (768,) | Trainable: True\n",
      "bert.encoder.layer.9.attention.self.value.weight   | Shape: (768, 768) | Trainable: True\n",
      "bert.encoder.layer.9.attention.self.value.bias     | Shape: (768,) | Trainable: True\n",
      "bert.encoder.layer.9.attention.output.dense.weight | Shape: (768, 768) | Trainable: True\n",
      "bert.encoder.layer.9.attention.output.dense.bias   | Shape: (768,) | Trainable: True\n",
      "bert.encoder.layer.9.attention.output.LayerNorm.weight | Shape: (768,) | Trainable: True\n",
      "bert.encoder.layer.9.attention.output.LayerNorm.bias | Shape: (768,) | Trainable: True\n",
      "bert.encoder.layer.9.intermediate.dense.weight     | Shape: (3072, 768) | Trainable: True\n",
      "bert.encoder.layer.9.intermediate.dense.bias       | Shape: (3072,) | Trainable: True\n",
      "bert.encoder.layer.9.output.dense.weight           | Shape: (768, 3072) | Trainable: True\n",
      "bert.encoder.layer.9.output.dense.bias             | Shape: (768,) | Trainable: True\n",
      "bert.encoder.layer.9.output.LayerNorm.weight       | Shape: (768,) | Trainable: True\n",
      "bert.encoder.layer.9.output.LayerNorm.bias         | Shape: (768,) | Trainable: True\n",
      "bert.encoder.layer.10.attention.self.query.weight  | Shape: (768, 768) | Trainable: True\n",
      "bert.encoder.layer.10.attention.self.query.bias    | Shape: (768,) | Trainable: True\n",
      "bert.encoder.layer.10.attention.self.key.weight    | Shape: (768, 768) | Trainable: True\n",
      "bert.encoder.layer.10.attention.self.key.bias      | Shape: (768,) | Trainable: True\n",
      "bert.encoder.layer.10.attention.self.value.weight  | Shape: (768, 768) | Trainable: True\n",
      "bert.encoder.layer.10.attention.self.value.bias    | Shape: (768,) | Trainable: True\n",
      "bert.encoder.layer.10.attention.output.dense.weight | Shape: (768, 768) | Trainable: True\n",
      "bert.encoder.layer.10.attention.output.dense.bias  | Shape: (768,) | Trainable: True\n",
      "bert.encoder.layer.10.attention.output.LayerNorm.weight | Shape: (768,) | Trainable: True\n",
      "bert.encoder.layer.10.attention.output.LayerNorm.bias | Shape: (768,) | Trainable: True\n",
      "bert.encoder.layer.10.intermediate.dense.weight    | Shape: (3072, 768) | Trainable: True\n",
      "bert.encoder.layer.10.intermediate.dense.bias      | Shape: (3072,) | Trainable: True\n",
      "bert.encoder.layer.10.output.dense.weight          | Shape: (768, 3072) | Trainable: True\n",
      "bert.encoder.layer.10.output.dense.bias            | Shape: (768,) | Trainable: True\n",
      "bert.encoder.layer.10.output.LayerNorm.weight      | Shape: (768,) | Trainable: True\n",
      "bert.encoder.layer.10.output.LayerNorm.bias        | Shape: (768,) | Trainable: True\n",
      "bert.encoder.layer.11.attention.self.query.weight  | Shape: (768, 768) | Trainable: True\n",
      "bert.encoder.layer.11.attention.self.query.bias    | Shape: (768,) | Trainable: True\n",
      "bert.encoder.layer.11.attention.self.key.weight    | Shape: (768, 768) | Trainable: True\n",
      "bert.encoder.layer.11.attention.self.key.bias      | Shape: (768,) | Trainable: True\n",
      "bert.encoder.layer.11.attention.self.value.weight  | Shape: (768, 768) | Trainable: True\n",
      "bert.encoder.layer.11.attention.self.value.bias    | Shape: (768,) | Trainable: True\n",
      "bert.encoder.layer.11.attention.output.dense.weight | Shape: (768, 768) | Trainable: True\n",
      "bert.encoder.layer.11.attention.output.dense.bias  | Shape: (768,) | Trainable: True\n",
      "bert.encoder.layer.11.attention.output.LayerNorm.weight | Shape: (768,) | Trainable: True\n",
      "bert.encoder.layer.11.attention.output.LayerNorm.bias | Shape: (768,) | Trainable: True\n",
      "bert.encoder.layer.11.intermediate.dense.weight    | Shape: (3072, 768) | Trainable: True\n",
      "bert.encoder.layer.11.intermediate.dense.bias      | Shape: (3072,) | Trainable: True\n",
      "bert.encoder.layer.11.output.dense.weight          | Shape: (768, 3072) | Trainable: True\n",
      "bert.encoder.layer.11.output.dense.bias            | Shape: (768,) | Trainable: True\n",
      "bert.encoder.layer.11.output.LayerNorm.weight      | Shape: (768,) | Trainable: True\n",
      "bert.encoder.layer.11.output.LayerNorm.bias        | Shape: (768,) | Trainable: True\n",
      "bert.pooler.dense.weight                           | Shape: (768, 768) | Trainable: True\n",
      "bert.pooler.dense.bias                             | Shape: (768,) | Trainable: True\n",
      "classifier.weight                                  | Shape: (2, 768) | Trainable: True\n",
      "classifier.bias                                    | Shape: (2,) | Trainable: True\n"
     ]
    }
   ],
   "source": [
    "for name, param in model.named_parameters():\n",
    "    print(f\"{name:50} | Shape: {tuple(param.shape)} | Trainable: {param.requires_grad}\")"
   ]
  },
  {
   "cell_type": "code",
   "execution_count": 21,
   "id": "3e332941",
   "metadata": {},
   "outputs": [
    {
     "name": "stderr",
     "output_type": "stream",
     "text": [
      "Some weights of BertForSequenceClassification were not initialized from the model checkpoint at bert-base-uncased and are newly initialized: ['classifier.bias', 'classifier.weight']\n",
      "You should probably TRAIN this model on a down-stream task to be able to use it for predictions and inference.\n"
     ]
    }
   ],
   "source": [
    "model_for_cls = BertForSequenceClassification.from_pretrained(\n",
    "    \"bert-base-uncased\", num_labels = 3\n",
    ")"
   ]
  },
  {
   "cell_type": "code",
   "execution_count": 22,
   "id": "88591c71",
   "metadata": {},
   "outputs": [
    {
     "name": "stdout",
     "output_type": "stream",
     "text": [
      "bert.embeddings.word_embeddings.weight             | Shape: (30522, 768) | Trainable: True\n",
      "bert.embeddings.position_embeddings.weight         | Shape: (512, 768) | Trainable: True\n",
      "bert.embeddings.token_type_embeddings.weight       | Shape: (2, 768) | Trainable: True\n",
      "bert.embeddings.LayerNorm.weight                   | Shape: (768,) | Trainable: True\n",
      "bert.embeddings.LayerNorm.bias                     | Shape: (768,) | Trainable: True\n",
      "bert.encoder.layer.0.attention.self.query.weight   | Shape: (768, 768) | Trainable: True\n",
      "bert.encoder.layer.0.attention.self.query.bias     | Shape: (768,) | Trainable: True\n",
      "bert.encoder.layer.0.attention.self.key.weight     | Shape: (768, 768) | Trainable: True\n",
      "bert.encoder.layer.0.attention.self.key.bias       | Shape: (768,) | Trainable: True\n",
      "bert.encoder.layer.0.attention.self.value.weight   | Shape: (768, 768) | Trainable: True\n",
      "bert.encoder.layer.0.attention.self.value.bias     | Shape: (768,) | Trainable: True\n",
      "bert.encoder.layer.0.attention.output.dense.weight | Shape: (768, 768) | Trainable: True\n",
      "bert.encoder.layer.0.attention.output.dense.bias   | Shape: (768,) | Trainable: True\n",
      "bert.encoder.layer.0.attention.output.LayerNorm.weight | Shape: (768,) | Trainable: True\n",
      "bert.encoder.layer.0.attention.output.LayerNorm.bias | Shape: (768,) | Trainable: True\n",
      "bert.encoder.layer.0.intermediate.dense.weight     | Shape: (3072, 768) | Trainable: True\n",
      "bert.encoder.layer.0.intermediate.dense.bias       | Shape: (3072,) | Trainable: True\n",
      "bert.encoder.layer.0.output.dense.weight           | Shape: (768, 3072) | Trainable: True\n",
      "bert.encoder.layer.0.output.dense.bias             | Shape: (768,) | Trainable: True\n",
      "bert.encoder.layer.0.output.LayerNorm.weight       | Shape: (768,) | Trainable: True\n",
      "bert.encoder.layer.0.output.LayerNorm.bias         | Shape: (768,) | Trainable: True\n",
      "bert.encoder.layer.1.attention.self.query.weight   | Shape: (768, 768) | Trainable: True\n",
      "bert.encoder.layer.1.attention.self.query.bias     | Shape: (768,) | Trainable: True\n",
      "bert.encoder.layer.1.attention.self.key.weight     | Shape: (768, 768) | Trainable: True\n",
      "bert.encoder.layer.1.attention.self.key.bias       | Shape: (768,) | Trainable: True\n",
      "bert.encoder.layer.1.attention.self.value.weight   | Shape: (768, 768) | Trainable: True\n",
      "bert.encoder.layer.1.attention.self.value.bias     | Shape: (768,) | Trainable: True\n",
      "bert.encoder.layer.1.attention.output.dense.weight | Shape: (768, 768) | Trainable: True\n",
      "bert.encoder.layer.1.attention.output.dense.bias   | Shape: (768,) | Trainable: True\n",
      "bert.encoder.layer.1.attention.output.LayerNorm.weight | Shape: (768,) | Trainable: True\n",
      "bert.encoder.layer.1.attention.output.LayerNorm.bias | Shape: (768,) | Trainable: True\n",
      "bert.encoder.layer.1.intermediate.dense.weight     | Shape: (3072, 768) | Trainable: True\n",
      "bert.encoder.layer.1.intermediate.dense.bias       | Shape: (3072,) | Trainable: True\n",
      "bert.encoder.layer.1.output.dense.weight           | Shape: (768, 3072) | Trainable: True\n",
      "bert.encoder.layer.1.output.dense.bias             | Shape: (768,) | Trainable: True\n",
      "bert.encoder.layer.1.output.LayerNorm.weight       | Shape: (768,) | Trainable: True\n",
      "bert.encoder.layer.1.output.LayerNorm.bias         | Shape: (768,) | Trainable: True\n",
      "bert.encoder.layer.2.attention.self.query.weight   | Shape: (768, 768) | Trainable: True\n",
      "bert.encoder.layer.2.attention.self.query.bias     | Shape: (768,) | Trainable: True\n",
      "bert.encoder.layer.2.attention.self.key.weight     | Shape: (768, 768) | Trainable: True\n",
      "bert.encoder.layer.2.attention.self.key.bias       | Shape: (768,) | Trainable: True\n",
      "bert.encoder.layer.2.attention.self.value.weight   | Shape: (768, 768) | Trainable: True\n",
      "bert.encoder.layer.2.attention.self.value.bias     | Shape: (768,) | Trainable: True\n",
      "bert.encoder.layer.2.attention.output.dense.weight | Shape: (768, 768) | Trainable: True\n",
      "bert.encoder.layer.2.attention.output.dense.bias   | Shape: (768,) | Trainable: True\n",
      "bert.encoder.layer.2.attention.output.LayerNorm.weight | Shape: (768,) | Trainable: True\n",
      "bert.encoder.layer.2.attention.output.LayerNorm.bias | Shape: (768,) | Trainable: True\n",
      "bert.encoder.layer.2.intermediate.dense.weight     | Shape: (3072, 768) | Trainable: True\n",
      "bert.encoder.layer.2.intermediate.dense.bias       | Shape: (3072,) | Trainable: True\n",
      "bert.encoder.layer.2.output.dense.weight           | Shape: (768, 3072) | Trainable: True\n",
      "bert.encoder.layer.2.output.dense.bias             | Shape: (768,) | Trainable: True\n",
      "bert.encoder.layer.2.output.LayerNorm.weight       | Shape: (768,) | Trainable: True\n",
      "bert.encoder.layer.2.output.LayerNorm.bias         | Shape: (768,) | Trainable: True\n",
      "bert.encoder.layer.3.attention.self.query.weight   | Shape: (768, 768) | Trainable: True\n",
      "bert.encoder.layer.3.attention.self.query.bias     | Shape: (768,) | Trainable: True\n",
      "bert.encoder.layer.3.attention.self.key.weight     | Shape: (768, 768) | Trainable: True\n",
      "bert.encoder.layer.3.attention.self.key.bias       | Shape: (768,) | Trainable: True\n",
      "bert.encoder.layer.3.attention.self.value.weight   | Shape: (768, 768) | Trainable: True\n",
      "bert.encoder.layer.3.attention.self.value.bias     | Shape: (768,) | Trainable: True\n",
      "bert.encoder.layer.3.attention.output.dense.weight | Shape: (768, 768) | Trainable: True\n",
      "bert.encoder.layer.3.attention.output.dense.bias   | Shape: (768,) | Trainable: True\n",
      "bert.encoder.layer.3.attention.output.LayerNorm.weight | Shape: (768,) | Trainable: True\n",
      "bert.encoder.layer.3.attention.output.LayerNorm.bias | Shape: (768,) | Trainable: True\n",
      "bert.encoder.layer.3.intermediate.dense.weight     | Shape: (3072, 768) | Trainable: True\n",
      "bert.encoder.layer.3.intermediate.dense.bias       | Shape: (3072,) | Trainable: True\n",
      "bert.encoder.layer.3.output.dense.weight           | Shape: (768, 3072) | Trainable: True\n",
      "bert.encoder.layer.3.output.dense.bias             | Shape: (768,) | Trainable: True\n",
      "bert.encoder.layer.3.output.LayerNorm.weight       | Shape: (768,) | Trainable: True\n",
      "bert.encoder.layer.3.output.LayerNorm.bias         | Shape: (768,) | Trainable: True\n",
      "bert.encoder.layer.4.attention.self.query.weight   | Shape: (768, 768) | Trainable: True\n",
      "bert.encoder.layer.4.attention.self.query.bias     | Shape: (768,) | Trainable: True\n",
      "bert.encoder.layer.4.attention.self.key.weight     | Shape: (768, 768) | Trainable: True\n",
      "bert.encoder.layer.4.attention.self.key.bias       | Shape: (768,) | Trainable: True\n",
      "bert.encoder.layer.4.attention.self.value.weight   | Shape: (768, 768) | Trainable: True\n",
      "bert.encoder.layer.4.attention.self.value.bias     | Shape: (768,) | Trainable: True\n",
      "bert.encoder.layer.4.attention.output.dense.weight | Shape: (768, 768) | Trainable: True\n",
      "bert.encoder.layer.4.attention.output.dense.bias   | Shape: (768,) | Trainable: True\n",
      "bert.encoder.layer.4.attention.output.LayerNorm.weight | Shape: (768,) | Trainable: True\n",
      "bert.encoder.layer.4.attention.output.LayerNorm.bias | Shape: (768,) | Trainable: True\n",
      "bert.encoder.layer.4.intermediate.dense.weight     | Shape: (3072, 768) | Trainable: True\n",
      "bert.encoder.layer.4.intermediate.dense.bias       | Shape: (3072,) | Trainable: True\n",
      "bert.encoder.layer.4.output.dense.weight           | Shape: (768, 3072) | Trainable: True\n",
      "bert.encoder.layer.4.output.dense.bias             | Shape: (768,) | Trainable: True\n",
      "bert.encoder.layer.4.output.LayerNorm.weight       | Shape: (768,) | Trainable: True\n",
      "bert.encoder.layer.4.output.LayerNorm.bias         | Shape: (768,) | Trainable: True\n",
      "bert.encoder.layer.5.attention.self.query.weight   | Shape: (768, 768) | Trainable: True\n",
      "bert.encoder.layer.5.attention.self.query.bias     | Shape: (768,) | Trainable: True\n",
      "bert.encoder.layer.5.attention.self.key.weight     | Shape: (768, 768) | Trainable: True\n",
      "bert.encoder.layer.5.attention.self.key.bias       | Shape: (768,) | Trainable: True\n",
      "bert.encoder.layer.5.attention.self.value.weight   | Shape: (768, 768) | Trainable: True\n",
      "bert.encoder.layer.5.attention.self.value.bias     | Shape: (768,) | Trainable: True\n",
      "bert.encoder.layer.5.attention.output.dense.weight | Shape: (768, 768) | Trainable: True\n",
      "bert.encoder.layer.5.attention.output.dense.bias   | Shape: (768,) | Trainable: True\n",
      "bert.encoder.layer.5.attention.output.LayerNorm.weight | Shape: (768,) | Trainable: True\n",
      "bert.encoder.layer.5.attention.output.LayerNorm.bias | Shape: (768,) | Trainable: True\n",
      "bert.encoder.layer.5.intermediate.dense.weight     | Shape: (3072, 768) | Trainable: True\n",
      "bert.encoder.layer.5.intermediate.dense.bias       | Shape: (3072,) | Trainable: True\n",
      "bert.encoder.layer.5.output.dense.weight           | Shape: (768, 3072) | Trainable: True\n",
      "bert.encoder.layer.5.output.dense.bias             | Shape: (768,) | Trainable: True\n",
      "bert.encoder.layer.5.output.LayerNorm.weight       | Shape: (768,) | Trainable: True\n",
      "bert.encoder.layer.5.output.LayerNorm.bias         | Shape: (768,) | Trainable: True\n",
      "bert.encoder.layer.6.attention.self.query.weight   | Shape: (768, 768) | Trainable: True\n",
      "bert.encoder.layer.6.attention.self.query.bias     | Shape: (768,) | Trainable: True\n",
      "bert.encoder.layer.6.attention.self.key.weight     | Shape: (768, 768) | Trainable: True\n",
      "bert.encoder.layer.6.attention.self.key.bias       | Shape: (768,) | Trainable: True\n",
      "bert.encoder.layer.6.attention.self.value.weight   | Shape: (768, 768) | Trainable: True\n",
      "bert.encoder.layer.6.attention.self.value.bias     | Shape: (768,) | Trainable: True\n",
      "bert.encoder.layer.6.attention.output.dense.weight | Shape: (768, 768) | Trainable: True\n",
      "bert.encoder.layer.6.attention.output.dense.bias   | Shape: (768,) | Trainable: True\n",
      "bert.encoder.layer.6.attention.output.LayerNorm.weight | Shape: (768,) | Trainable: True\n",
      "bert.encoder.layer.6.attention.output.LayerNorm.bias | Shape: (768,) | Trainable: True\n",
      "bert.encoder.layer.6.intermediate.dense.weight     | Shape: (3072, 768) | Trainable: True\n",
      "bert.encoder.layer.6.intermediate.dense.bias       | Shape: (3072,) | Trainable: True\n",
      "bert.encoder.layer.6.output.dense.weight           | Shape: (768, 3072) | Trainable: True\n",
      "bert.encoder.layer.6.output.dense.bias             | Shape: (768,) | Trainable: True\n",
      "bert.encoder.layer.6.output.LayerNorm.weight       | Shape: (768,) | Trainable: True\n",
      "bert.encoder.layer.6.output.LayerNorm.bias         | Shape: (768,) | Trainable: True\n",
      "bert.encoder.layer.7.attention.self.query.weight   | Shape: (768, 768) | Trainable: True\n",
      "bert.encoder.layer.7.attention.self.query.bias     | Shape: (768,) | Trainable: True\n",
      "bert.encoder.layer.7.attention.self.key.weight     | Shape: (768, 768) | Trainable: True\n",
      "bert.encoder.layer.7.attention.self.key.bias       | Shape: (768,) | Trainable: True\n",
      "bert.encoder.layer.7.attention.self.value.weight   | Shape: (768, 768) | Trainable: True\n",
      "bert.encoder.layer.7.attention.self.value.bias     | Shape: (768,) | Trainable: True\n",
      "bert.encoder.layer.7.attention.output.dense.weight | Shape: (768, 768) | Trainable: True\n",
      "bert.encoder.layer.7.attention.output.dense.bias   | Shape: (768,) | Trainable: True\n",
      "bert.encoder.layer.7.attention.output.LayerNorm.weight | Shape: (768,) | Trainable: True\n",
      "bert.encoder.layer.7.attention.output.LayerNorm.bias | Shape: (768,) | Trainable: True\n",
      "bert.encoder.layer.7.intermediate.dense.weight     | Shape: (3072, 768) | Trainable: True\n",
      "bert.encoder.layer.7.intermediate.dense.bias       | Shape: (3072,) | Trainable: True\n",
      "bert.encoder.layer.7.output.dense.weight           | Shape: (768, 3072) | Trainable: True\n",
      "bert.encoder.layer.7.output.dense.bias             | Shape: (768,) | Trainable: True\n",
      "bert.encoder.layer.7.output.LayerNorm.weight       | Shape: (768,) | Trainable: True\n",
      "bert.encoder.layer.7.output.LayerNorm.bias         | Shape: (768,) | Trainable: True\n",
      "bert.encoder.layer.8.attention.self.query.weight   | Shape: (768, 768) | Trainable: True\n",
      "bert.encoder.layer.8.attention.self.query.bias     | Shape: (768,) | Trainable: True\n",
      "bert.encoder.layer.8.attention.self.key.weight     | Shape: (768, 768) | Trainable: True\n",
      "bert.encoder.layer.8.attention.self.key.bias       | Shape: (768,) | Trainable: True\n",
      "bert.encoder.layer.8.attention.self.value.weight   | Shape: (768, 768) | Trainable: True\n",
      "bert.encoder.layer.8.attention.self.value.bias     | Shape: (768,) | Trainable: True\n",
      "bert.encoder.layer.8.attention.output.dense.weight | Shape: (768, 768) | Trainable: True\n",
      "bert.encoder.layer.8.attention.output.dense.bias   | Shape: (768,) | Trainable: True\n",
      "bert.encoder.layer.8.attention.output.LayerNorm.weight | Shape: (768,) | Trainable: True\n",
      "bert.encoder.layer.8.attention.output.LayerNorm.bias | Shape: (768,) | Trainable: True\n",
      "bert.encoder.layer.8.intermediate.dense.weight     | Shape: (3072, 768) | Trainable: True\n",
      "bert.encoder.layer.8.intermediate.dense.bias       | Shape: (3072,) | Trainable: True\n",
      "bert.encoder.layer.8.output.dense.weight           | Shape: (768, 3072) | Trainable: True\n",
      "bert.encoder.layer.8.output.dense.bias             | Shape: (768,) | Trainable: True\n",
      "bert.encoder.layer.8.output.LayerNorm.weight       | Shape: (768,) | Trainable: True\n",
      "bert.encoder.layer.8.output.LayerNorm.bias         | Shape: (768,) | Trainable: True\n",
      "bert.encoder.layer.9.attention.self.query.weight   | Shape: (768, 768) | Trainable: True\n",
      "bert.encoder.layer.9.attention.self.query.bias     | Shape: (768,) | Trainable: True\n",
      "bert.encoder.layer.9.attention.self.key.weight     | Shape: (768, 768) | Trainable: True\n",
      "bert.encoder.layer.9.attention.self.key.bias       | Shape: (768,) | Trainable: True\n",
      "bert.encoder.layer.9.attention.self.value.weight   | Shape: (768, 768) | Trainable: True\n",
      "bert.encoder.layer.9.attention.self.value.bias     | Shape: (768,) | Trainable: True\n",
      "bert.encoder.layer.9.attention.output.dense.weight | Shape: (768, 768) | Trainable: True\n",
      "bert.encoder.layer.9.attention.output.dense.bias   | Shape: (768,) | Trainable: True\n",
      "bert.encoder.layer.9.attention.output.LayerNorm.weight | Shape: (768,) | Trainable: True\n",
      "bert.encoder.layer.9.attention.output.LayerNorm.bias | Shape: (768,) | Trainable: True\n",
      "bert.encoder.layer.9.intermediate.dense.weight     | Shape: (3072, 768) | Trainable: True\n",
      "bert.encoder.layer.9.intermediate.dense.bias       | Shape: (3072,) | Trainable: True\n",
      "bert.encoder.layer.9.output.dense.weight           | Shape: (768, 3072) | Trainable: True\n",
      "bert.encoder.layer.9.output.dense.bias             | Shape: (768,) | Trainable: True\n",
      "bert.encoder.layer.9.output.LayerNorm.weight       | Shape: (768,) | Trainable: True\n",
      "bert.encoder.layer.9.output.LayerNorm.bias         | Shape: (768,) | Trainable: True\n",
      "bert.encoder.layer.10.attention.self.query.weight  | Shape: (768, 768) | Trainable: True\n",
      "bert.encoder.layer.10.attention.self.query.bias    | Shape: (768,) | Trainable: True\n",
      "bert.encoder.layer.10.attention.self.key.weight    | Shape: (768, 768) | Trainable: True\n",
      "bert.encoder.layer.10.attention.self.key.bias      | Shape: (768,) | Trainable: True\n",
      "bert.encoder.layer.10.attention.self.value.weight  | Shape: (768, 768) | Trainable: True\n",
      "bert.encoder.layer.10.attention.self.value.bias    | Shape: (768,) | Trainable: True\n",
      "bert.encoder.layer.10.attention.output.dense.weight | Shape: (768, 768) | Trainable: True\n",
      "bert.encoder.layer.10.attention.output.dense.bias  | Shape: (768,) | Trainable: True\n",
      "bert.encoder.layer.10.attention.output.LayerNorm.weight | Shape: (768,) | Trainable: True\n",
      "bert.encoder.layer.10.attention.output.LayerNorm.bias | Shape: (768,) | Trainable: True\n",
      "bert.encoder.layer.10.intermediate.dense.weight    | Shape: (3072, 768) | Trainable: True\n",
      "bert.encoder.layer.10.intermediate.dense.bias      | Shape: (3072,) | Trainable: True\n",
      "bert.encoder.layer.10.output.dense.weight          | Shape: (768, 3072) | Trainable: True\n",
      "bert.encoder.layer.10.output.dense.bias            | Shape: (768,) | Trainable: True\n",
      "bert.encoder.layer.10.output.LayerNorm.weight      | Shape: (768,) | Trainable: True\n",
      "bert.encoder.layer.10.output.LayerNorm.bias        | Shape: (768,) | Trainable: True\n",
      "bert.encoder.layer.11.attention.self.query.weight  | Shape: (768, 768) | Trainable: True\n",
      "bert.encoder.layer.11.attention.self.query.bias    | Shape: (768,) | Trainable: True\n",
      "bert.encoder.layer.11.attention.self.key.weight    | Shape: (768, 768) | Trainable: True\n",
      "bert.encoder.layer.11.attention.self.key.bias      | Shape: (768,) | Trainable: True\n",
      "bert.encoder.layer.11.attention.self.value.weight  | Shape: (768, 768) | Trainable: True\n",
      "bert.encoder.layer.11.attention.self.value.bias    | Shape: (768,) | Trainable: True\n",
      "bert.encoder.layer.11.attention.output.dense.weight | Shape: (768, 768) | Trainable: True\n",
      "bert.encoder.layer.11.attention.output.dense.bias  | Shape: (768,) | Trainable: True\n",
      "bert.encoder.layer.11.attention.output.LayerNorm.weight | Shape: (768,) | Trainable: True\n",
      "bert.encoder.layer.11.attention.output.LayerNorm.bias | Shape: (768,) | Trainable: True\n",
      "bert.encoder.layer.11.intermediate.dense.weight    | Shape: (3072, 768) | Trainable: True\n",
      "bert.encoder.layer.11.intermediate.dense.bias      | Shape: (3072,) | Trainable: True\n",
      "bert.encoder.layer.11.output.dense.weight          | Shape: (768, 3072) | Trainable: True\n",
      "bert.encoder.layer.11.output.dense.bias            | Shape: (768,) | Trainable: True\n",
      "bert.encoder.layer.11.output.LayerNorm.weight      | Shape: (768,) | Trainable: True\n",
      "bert.encoder.layer.11.output.LayerNorm.bias        | Shape: (768,) | Trainable: True\n",
      "bert.pooler.dense.weight                           | Shape: (768, 768) | Trainable: True\n",
      "bert.pooler.dense.bias                             | Shape: (768,) | Trainable: True\n",
      "classifier.weight                                  | Shape: (3, 768) | Trainable: True\n",
      "classifier.bias                                    | Shape: (3,) | Trainable: True\n"
     ]
    }
   ],
   "source": [
    "for name, param in model_for_cls.named_parameters():\n",
    "    print(f\"{name:50} | Shape: {tuple(param.shape)} | Trainable: {param.requires_grad}\")"
   ]
  },
  {
   "cell_type": "code",
   "execution_count": 23,
   "id": "27cbdee5",
   "metadata": {},
   "outputs": [
    {
     "name": "stdout",
     "output_type": "stream",
     "text": [
      "Trainable Parameters: 109483778\n"
     ]
    }
   ],
   "source": [
    "trainable_parameters = sum(p.numel() for p in model.parameters() if p.requires_grad)\n",
    "print(f\"Trainable Parameters: {trainable_parameters}\")"
   ]
  },
  {
   "cell_type": "code",
   "execution_count": 24,
   "id": "9eb0f81a",
   "metadata": {},
   "outputs": [
    {
     "name": "stdout",
     "output_type": "stream",
     "text": [
      "BertEmbeddings(\n",
      "  (word_embeddings): Embedding(30522, 768, padding_idx=0)\n",
      "  (position_embeddings): Embedding(512, 768)\n",
      "  (token_type_embeddings): Embedding(2, 768)\n",
      "  (LayerNorm): LayerNorm((768,), eps=1e-12, elementwise_affine=True)\n",
      "  (dropout): Dropout(p=0.1, inplace=False)\n",
      ")\n"
     ]
    }
   ],
   "source": [
    "print(model_for_cls.bert.embeddings)"
   ]
  },
  {
   "cell_type": "code",
   "execution_count": 25,
   "id": "b44825b4",
   "metadata": {},
   "outputs": [
    {
     "name": "stdout",
     "output_type": "stream",
     "text": [
      "BertLayer(\n",
      "  (attention): BertAttention(\n",
      "    (self): BertSdpaSelfAttention(\n",
      "      (query): Linear(in_features=768, out_features=768, bias=True)\n",
      "      (key): Linear(in_features=768, out_features=768, bias=True)\n",
      "      (value): Linear(in_features=768, out_features=768, bias=True)\n",
      "      (dropout): Dropout(p=0.1, inplace=False)\n",
      "    )\n",
      "    (output): BertSelfOutput(\n",
      "      (dense): Linear(in_features=768, out_features=768, bias=True)\n",
      "      (LayerNorm): LayerNorm((768,), eps=1e-12, elementwise_affine=True)\n",
      "      (dropout): Dropout(p=0.1, inplace=False)\n",
      "    )\n",
      "  )\n",
      "  (intermediate): BertIntermediate(\n",
      "    (dense): Linear(in_features=768, out_features=3072, bias=True)\n",
      "    (intermediate_act_fn): GELUActivation()\n",
      "  )\n",
      "  (output): BertOutput(\n",
      "    (dense): Linear(in_features=3072, out_features=768, bias=True)\n",
      "    (LayerNorm): LayerNorm((768,), eps=1e-12, elementwise_affine=True)\n",
      "    (dropout): Dropout(p=0.1, inplace=False)\n",
      "  )\n",
      ")\n"
     ]
    }
   ],
   "source": [
    "print(model_for_cls.bert.encoder.layer[11])"
   ]
  },
  {
   "cell_type": "code",
   "execution_count": 26,
   "id": "d11e6564",
   "metadata": {},
   "outputs": [
    {
     "name": "stdout",
     "output_type": "stream",
     "text": [
      "Linear(in_features=768, out_features=3, bias=True)\n"
     ]
    }
   ],
   "source": [
    "print(model_for_cls.classifier)"
   ]
  },
  {
   "cell_type": "code",
   "execution_count": 27,
   "id": "b33f13a4",
   "metadata": {},
   "outputs": [
    {
     "name": "stdout",
     "output_type": "stream",
     "text": [
      "BertConfig {\n",
      "  \"architectures\": [\n",
      "    \"BertForMaskedLM\"\n",
      "  ],\n",
      "  \"attention_probs_dropout_prob\": 0.1,\n",
      "  \"classifier_dropout\": null,\n",
      "  \"dtype\": \"float32\",\n",
      "  \"gradient_checkpointing\": false,\n",
      "  \"hidden_act\": \"gelu\",\n",
      "  \"hidden_dropout_prob\": 0.1,\n",
      "  \"hidden_size\": 768,\n",
      "  \"id2label\": {\n",
      "    \"0\": \"LABEL_0\",\n",
      "    \"1\": \"LABEL_1\",\n",
      "    \"2\": \"LABEL_2\"\n",
      "  },\n",
      "  \"initializer_range\": 0.02,\n",
      "  \"intermediate_size\": 3072,\n",
      "  \"label2id\": {\n",
      "    \"LABEL_0\": 0,\n",
      "    \"LABEL_1\": 1,\n",
      "    \"LABEL_2\": 2\n",
      "  },\n",
      "  \"layer_norm_eps\": 1e-12,\n",
      "  \"max_position_embeddings\": 512,\n",
      "  \"model_type\": \"bert\",\n",
      "  \"num_attention_heads\": 12,\n",
      "  \"num_hidden_layers\": 12,\n",
      "  \"pad_token_id\": 0,\n",
      "  \"position_embedding_type\": \"absolute\",\n",
      "  \"transformers_version\": \"4.56.2\",\n",
      "  \"type_vocab_size\": 2,\n",
      "  \"use_cache\": true,\n",
      "  \"vocab_size\": 30522\n",
      "}\n",
      "\n"
     ]
    }
   ],
   "source": [
    "print(model_for_cls.config)"
   ]
  },
  {
   "cell_type": "code",
   "execution_count": 28,
   "id": "ee7afa53",
   "metadata": {},
   "outputs": [
    {
     "name": "stdout",
     "output_type": "stream",
     "text": [
      "accelerate: 1.10.1\n",
      "transformers: 4.56.2\n",
      "torch: 2.8.0\n"
     ]
    }
   ],
   "source": [
    "import accelerate, transformers, torch\n",
    "print(\"accelerate:\", accelerate.__version__)\n",
    "print(\"transformers:\", transformers.__version__)\n",
    "print(\"torch:\", torch.__version__)"
   ]
  },
  {
   "cell_type": "code",
   "execution_count": 29,
   "id": "9b144ce9",
   "metadata": {},
   "outputs": [],
   "source": [
    "training_args = TrainingArguments(\n",
    "    output_dir=\"./bert_output_1\",\n",
    "    save_strategy=\"epoch\",\n",
    "    per_device_train_batch_size=8,\n",
    "    per_device_eval_batch_size=8,\n",
    "    num_train_epochs=1,\n",
    "    logging_dir=\"./logs\",\n",
    "    report_to=\"none\"\n",
    ")"
   ]
  },
  {
   "cell_type": "code",
   "execution_count": 30,
   "id": "bdc705dc",
   "metadata": {},
   "outputs": [],
   "source": [
    "import os\n",
    "os.environ[\"WANDB_DISABLED\"] = \"true\""
   ]
  },
  {
   "cell_type": "code",
   "execution_count": 31,
   "id": "012380d8",
   "metadata": {},
   "outputs": [],
   "source": [
    "trainer = Trainer(\n",
    "    model = model_for_cls,\n",
    "    args = training_args,\n",
    "    train_dataset=dataset[\"train\"],\n",
    "    eval_dataset=dataset[\"test\"],\n",
    ")"
   ]
  },
  {
   "cell_type": "code",
   "execution_count": 32,
   "id": "b10e34e6",
   "metadata": {},
   "outputs": [
    {
     "name": "stderr",
     "output_type": "stream",
     "text": [
      "/Users/atharvabot7/Downloads/MLOPS-Tutorials/Fine-Tuning-Practice/finetuning/lib/python3.10/site-packages/torch/utils/data/dataloader.py:684: UserWarning: 'pin_memory' argument is set as true but not supported on MPS now, then device pinned memory won't be used.\n",
      "  warnings.warn(warn_msg)\n"
     ]
    },
    {
     "data": {
      "text/html": [
       "\n",
       "    <div>\n",
       "      \n",
       "      <progress value='1219' max='1219' style='width:300px; height:20px; vertical-align: middle;'></progress>\n",
       "      [1219/1219 21:56, Epoch 1/1]\n",
       "    </div>\n",
       "    <table border=\"1\" class=\"dataframe\">\n",
       "  <thead>\n",
       " <tr style=\"text-align: left;\">\n",
       "      <th>Step</th>\n",
       "      <th>Training Loss</th>\n",
       "    </tr>\n",
       "  </thead>\n",
       "  <tbody>\n",
       "    <tr>\n",
       "      <td>500</td>\n",
       "      <td>0.385600</td>\n",
       "    </tr>\n",
       "    <tr>\n",
       "      <td>1000</td>\n",
       "      <td>0.145400</td>\n",
       "    </tr>\n",
       "  </tbody>\n",
       "</table><p>"
      ],
      "text/plain": [
       "<IPython.core.display.HTML object>"
      ]
     },
     "metadata": {},
     "output_type": "display_data"
    },
    {
     "data": {
      "text/plain": [
       "TrainOutput(global_step=1219, training_loss=0.23719414107813222, metrics={'train_runtime': 1319.091, 'train_samples_per_second': 7.391, 'train_steps_per_second': 0.924, 'total_flos': 2565092709430272.0, 'train_loss': 0.23719414107813222, 'epoch': 1.0})"
      ]
     },
     "execution_count": 32,
     "metadata": {},
     "output_type": "execute_result"
    }
   ],
   "source": [
    "trainer.train()"
   ]
  },
  {
   "cell_type": "code",
   "execution_count": null,
   "id": "d362e546",
   "metadata": {},
   "outputs": [],
   "source": []
  },
  {
   "cell_type": "code",
   "execution_count": null,
   "id": "bb15aa1d",
   "metadata": {},
   "outputs": [],
   "source": []
  },
  {
   "cell_type": "code",
   "execution_count": null,
   "id": "aaf94fa6",
   "metadata": {},
   "outputs": [],
   "source": []
  },
  {
   "cell_type": "code",
   "execution_count": null,
   "id": "d04b731f",
   "metadata": {},
   "outputs": [],
   "source": []
  },
  {
   "cell_type": "code",
   "execution_count": null,
   "id": "7ff9a5cd",
   "metadata": {},
   "outputs": [],
   "source": []
  },
  {
   "cell_type": "code",
   "execution_count": null,
   "id": "7266f463",
   "metadata": {},
   "outputs": [],
   "source": []
  }
 ],
 "metadata": {
  "kernelspec": {
   "display_name": "Python 3",
   "language": "python",
   "name": "python3"
  },
  "language_info": {
   "codemirror_mode": {
    "name": "ipython",
    "version": 3
   },
   "file_extension": ".py",
   "mimetype": "text/x-python",
   "name": "python",
   "nbconvert_exporter": "python",
   "pygments_lexer": "ipython3",
   "version": "3.10.18"
  }
 },
 "nbformat": 4,
 "nbformat_minor": 5
}
